{
 "cells": [
  {
   "cell_type": "markdown",
   "metadata": {},
   "source": [
    "# Introduction\n",
    "\n",
    "*Road safety is a very important topic around the world, and in the United Kingdom it's no different. Each year thousands of accidents are reported to the police and details such as location, date, weather, road conditions, and number of causalities are recorded. The consultant, Ian Jeffries, a Data Scientist working for the Department of Transport and Infrastructure, has been tasked with better understanding the root cause of high accident frequencies by \"the client\". There are three datasets to be analyzed: Accident information from 2017, Casualty information from 2017, and Vehicle information from 2017. These files are freely available for download on data.gov.uk. [1] The goal is to make roads safer for everyone by digging into common denominators and using visualization to make sense of the data. Seven specific questions were posed to the consultant, which will be addressed in the following brief.*"
   ]
  },
  {
   "cell_type": "code",
   "execution_count": 46,
   "metadata": {},
   "outputs": [],
   "source": [
    "#import necessary packages\n",
    "import pyspark, os, zipfile\n",
    "import pandas as pd\n",
    "import urllib.request\n",
    "import matplotlib.pyplot as plt"
   ]
  },
  {
   "cell_type": "code",
   "execution_count": 32,
   "metadata": {},
   "outputs": [],
   "source": [
    "from pyspark.sql import SQLContext\n",
    "from pyspark import SparkContext\n",
    "\n",
    "sc = SparkContext(\"local\", \"accident_analysis\")\n",
    "sqlCtx = SQLContext(sc)"
   ]
  },
  {
   "cell_type": "code",
   "execution_count": 17,
   "metadata": {},
   "outputs": [
    {
     "data": {
      "text/plain": [
       "('C:/Users/ianke/Desktop/dictionary.xls',\n",
       " <http.client.HTTPMessage at 0x1af0c0d0160>)"
      ]
     },
     "execution_count": 17,
     "metadata": {},
     "output_type": "execute_result"
    }
   ],
   "source": [
    "#perform get request to download files\n",
    "\n",
    "#get accident data\n",
    "urllib.request.urlretrieve('http://data.dft.gov.uk.s3.amazonaws.com/road-accidents-safety-data/dftRoadSafetyData_Accidents_2017.zip',\n",
    "                          'C:/Users/ianke/Desktop/accidents.zip')\n",
    "\n",
    "#get casualty data\n",
    "urllib.request.urlretrieve('http://data.dft.gov.uk.s3.amazonaws.com/road-accidents-safety-data/dftRoadSafetyData_Casualties_2017.zip',\n",
    "                          'C:/Users/ianke/Desktop/casualties.zip')\n",
    "\n",
    "#get vehicle data\n",
    "urllib.request.urlretrieve('http://data.dft.gov.uk.s3.amazonaws.com/road-accidents-safety-data/dftRoadSafetyData_Vehicles_2017.zip',\n",
    "                          'C:/Users/ianke/Desktop/vehicle.zip')\n",
    "\n",
    "#get dictionary info\n",
    "urllib.request.urlretrieve('http://data.dft.gov.uk/road-accidents-safety-data/Road-Accident-Safety-Data-Guide.xls',\n",
    "                          'C:/Users/ianke/Desktop/dictionary.xls')"
   ]
  },
  {
   "cell_type": "code",
   "execution_count": 19,
   "metadata": {},
   "outputs": [],
   "source": [
    "#unzip accident data\n",
    "accidentZip = zipfile.ZipFile('C:/Users/ianke/Desktop/accidents.zip', 'r')\n",
    "accidentZip.extractall('C:/Users/ianke/Desktop/')\n",
    "accidentZip.close()\n",
    "\n",
    "#unzip casualty data\n",
    "casualtyZip = zipfile.ZipFile('C:/Users/ianke/Desktop/casualties.zip', 'r')\n",
    "casualtyZip.extractall('C:/Users/ianke/Desktop/')\n",
    "casualtyZip.close()\n",
    "\n",
    "#unzip vehicle data\n",
    "casualtyZip = zipfile.ZipFile('C:/Users/ianke/Desktop/vehicle.zip', 'r')\n",
    "casualtyZip.extractall('C:/Users/ianke/Desktop/')\n",
    "casualtyZip.close()"
   ]
  },
  {
   "cell_type": "code",
   "execution_count": 22,
   "metadata": {},
   "outputs": [],
   "source": [
    "#delete zip folders\n",
    "os.remove('C:/Users/ianke/Desktop/accidents.zip')\n",
    "os.remove('C:/Users/ianke/Desktop/casualties.zip')\n",
    "os.remove('C:/Users/ianke/Desktop/vehicle.zip')"
   ]
  },
  {
   "cell_type": "code",
   "execution_count": 23,
   "metadata": {},
   "outputs": [],
   "source": [
    "#read in csv\n",
    "headerfix = pd.read_csv(\"C:/Users/ianke/Desktop/Acc.csv\", low_memory=False)\n",
    "\n",
    "#change header name\n",
    "headerfix = headerfix.rename(columns={'Local_Authority_(District)': 'Local_Authority_District'})\n",
    "\n",
    "#output csv\n",
    "headerfix.to_csv(\"C:/Users/ianke/Desktop/Acc.csv\", index=False)"
   ]
  },
  {
   "cell_type": "code",
   "execution_count": 41,
   "metadata": {},
   "outputs": [],
   "source": [
    "#create accidents Spark dataframe\n",
    "accidents = sqlCtx.read.option(\"header\",\"true\").csv(\"C:/Users/ianke/Desktop/Acc.csv\")\n",
    "\n",
    "#create casualties Spark dataframe\n",
    "casualties = sqlCtx.read.option(\"header\",\"true\").csv(\"C:/Users/ianke/Desktop/Cas.csv\")\n",
    "\n",
    "#create vehicles Spark dataframe\n",
    "vehicles = sqlCtx.read.option(\"header\",\"true\").csv(\"C:/Users/ianke/Desktop/Veh.csv\")"
   ]
  },
  {
   "cell_type": "code",
   "execution_count": 36,
   "metadata": {},
   "outputs": [],
   "source": [
    "#create dictionary variable\n",
    "dictionary = pd.ExcelFile('C:/Users/ianke/Desktop/dictionary.xls')\n",
    "\n",
    "#create police force dictionary by specifying the tab of the dictionary variable\n",
    "policeForcePD = pd.read_excel(dictionary, 'Police Force')\n",
    "\n",
    "#convert to spark dataframe\n",
    "policeForce = sqlCtx.createDataFrame(policeForcePD)"
   ]
  },
  {
   "cell_type": "code",
   "execution_count": 54,
   "metadata": {},
   "outputs": [
    {
     "name": "stdout",
     "output_type": "stream",
     "text": [
      "+-------------------+---------------+\n",
      "|       police_force|number_of_fatal|\n",
      "+-------------------+---------------+\n",
      "|Metropolitan Police|            129|\n",
      "|      Thames Valley|             59|\n",
      "|               Kent|             56|\n",
      "+-------------------+---------------+\n",
      "\n"
     ]
    }
   ],
   "source": [
    "#query to get top three police forces (joining accidents dataframe and dictionary dataframe)\n",
    "top3 = accidents.join(policeForce, accidents.Police_Force == policeForce.code, \"left_outer\") \\\n",
    "                .select((policeForce.label).alias(\"police_force\")) \\\n",
    "                .where(accidents.Accident_Severity == 1) \\\n",
    "                .groupby(\"police_force\").count().withColumnRenamed(\"count\", \"number_of_fatal\") \\\n",
    "                .orderBy(\"Number_of_Fatal\", ascending=False) \\\n",
    "                .limit(3)\n",
    "\n",
    "#show successful query\n",
    "top3.show()"
   ]
  },
  {
   "cell_type": "code",
   "execution_count": 55,
   "metadata": {},
   "outputs": [],
   "source": [
    "top3 = top3.toPandas()"
   ]
  },
  {
   "cell_type": "code",
   "execution_count": 56,
   "metadata": {},
   "outputs": [
    {
     "data": {
      "text/html": [
       "<div>\n",
       "<style scoped>\n",
       "    .dataframe tbody tr th:only-of-type {\n",
       "        vertical-align: middle;\n",
       "    }\n",
       "\n",
       "    .dataframe tbody tr th {\n",
       "        vertical-align: top;\n",
       "    }\n",
       "\n",
       "    .dataframe thead th {\n",
       "        text-align: right;\n",
       "    }\n",
       "</style>\n",
       "<table border=\"1\" class=\"dataframe\">\n",
       "  <thead>\n",
       "    <tr style=\"text-align: right;\">\n",
       "      <th></th>\n",
       "      <th>police_force</th>\n",
       "      <th>number_of_fatal</th>\n",
       "    </tr>\n",
       "  </thead>\n",
       "  <tbody>\n",
       "    <tr>\n",
       "      <th>0</th>\n",
       "      <td>Metropolitan Police</td>\n",
       "      <td>129</td>\n",
       "    </tr>\n",
       "    <tr>\n",
       "      <th>1</th>\n",
       "      <td>Thames Valley</td>\n",
       "      <td>59</td>\n",
       "    </tr>\n",
       "    <tr>\n",
       "      <th>2</th>\n",
       "      <td>Kent</td>\n",
       "      <td>56</td>\n",
       "    </tr>\n",
       "  </tbody>\n",
       "</table>\n",
       "</div>"
      ],
      "text/plain": [
       "          police_force  number_of_fatal\n",
       "0  Metropolitan Police              129\n",
       "1        Thames Valley               59\n",
       "2                 Kent               56"
      ]
     },
     "execution_count": 56,
     "metadata": {},
     "output_type": "execute_result"
    }
   ],
   "source": [
    "top3.head()"
   ]
  },
  {
   "cell_type": "code",
   "execution_count": 57,
   "metadata": {},
   "outputs": [
    {
     "data": {
      "image/png": "[encoded data removed]",
      "text/plain": [
       "<Figure size 432x288 with 1 Axes>"
      ]
     },
     "metadata": {
      "needs_background": "light"
     },
     "output_type": "display_data"
    }
   ],
   "source": [
    "#display visualization in jupyter output inline\n",
    "%matplotlib inline\n",
    "\n",
    "#create bar chart\n",
    "plt.bar(top3.police_force, height=top3.number_of_fatal, color='black')\n",
    "plt.xlabel('Police Force')\n",
    "plt.ylabel('Number of Fatal Accidents')\n",
    "plt.title('Top 3 Most Fatal Accidents', fontdict = {'fontsize' : 16})\n",
    "plt.style.use('ggplot')\n",
    "plt.show()"
   ]
  }
 ],
 "metadata": {
  "kernelspec": {
   "display_name": "Python 3",
   "language": "python",
   "name": "python3"
  },
  "language_info": {
   "codemirror_mode": {
    "name": "ipython",
    "version": 3
   },
   "file_extension": ".py",
   "mimetype": "text/x-python",
   "name": "python",
   "nbconvert_exporter": "python",
   "pygments_lexer": "ipython3",
   "version": "3.7.3"
  }
 },
 "nbformat": 4,
 "nbformat_minor": 1
}
