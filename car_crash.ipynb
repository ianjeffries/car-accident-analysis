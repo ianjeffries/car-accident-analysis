{
 "cells": [
  {
   "cell_type": "markdown",
   "metadata": {},
   "source": [
    "# Introduction\n",
    "\n",
    "Road safety is a very important topic around the world, and in the United Kingdom it's no different. Each year thousands of accidents are reported to the police and details such as location, date, weather, road conditions, and number of causalities are recorded. There are three datasets to be analyzed: Accident information from 2017, Casualty information from 2017, and Vehicle information from 2017. These files are freely available for download on data.gov.uk. The goal is to make roads safer for everyone by digging into common denominators and using visualization to make sense of the data.\n",
    "\n",
    "The following notebook uses pyspark and pandas to manipulate the data, using matplotlib and seaborn to vizualize the results. While these aren't \"big data\" files that require processing over a cluster, this serves as an example of how you would leverage big data tools on similar datasets. "
   ]
  },
  {
   "cell_type": "markdown",
   "metadata": {},
   "source": [
    "## Import Packages"
   ]
  },
  {
   "cell_type": "code",
   "execution_count": 46,
   "metadata": {},
   "outputs": [],
   "source": [
    "#import necessary packages\n",
    "import pyspark, os, zipfile\n",
    "import pandas as pd\n",
    "import urllib.request\n",
    "import matplotlib.pyplot as plt"
   ]
  },
  {
   "cell_type": "markdown",
   "metadata": {},
   "source": [
    "## Create sql and spark context to work with pyspark"
   ]
  },
  {
   "cell_type": "code",
   "execution_count": null,
   "metadata": {},
   "outputs": [],
   "source": [
    "#import necessary packages\n",
    "from pyspark.sql import SQLContext\n",
    "from pyspark import SparkContext\n",
    "\n",
    "#create spark context\n",
    "sc = SparkContext(\"local\", \"accident_analysis\")\n",
    "\n",
    "#create sql context\n",
    "sqlCtx = SQLContext(sc)"
   ]
  },
  {
   "cell_type": "markdown",
   "metadata": {},
   "source": [
    "## Download files from data.gov.uk \n",
    "\n",
    "(Files are included on github page if you're out of the country and can't access the website.)"
   ]
  },
  {
   "cell_type": "code",
   "execution_count": 17,
   "metadata": {},
   "outputs": [
    {
     "data": {
      "text/plain": [
       "('C:/Users/ianke/Desktop/dictionary.xls',\n",
       " <http.client.HTTPMessage at 0x1af0c0d0160>)"
      ]
     },
     "execution_count": 17,
     "metadata": {},
     "output_type": "execute_result"
    }
   ],
   "source": [
    "#use urllib to download files\n",
    "\n",
    "#get accident data\n",
    "urllib.request.urlretrieve('http://data.dft.gov.uk.s3.amazonaws.com/road-accidents-safety-data/dftRoadSafetyData_Accidents_2017.zip',\n",
    "                          'C:/Users/ianke/Desktop/accidents.zip')\n",
    "\n",
    "#get casualty data\n",
    "urllib.request.urlretrieve('http://data.dft.gov.uk.s3.amazonaws.com/road-accidents-safety-data/dftRoadSafetyData_Casualties_2017.zip',\n",
    "                          'C:/Users/ianke/Desktop/casualties.zip')\n",
    "\n",
    "#get vehicle data\n",
    "urllib.request.urlretrieve('http://data.dft.gov.uk.s3.amazonaws.com/road-accidents-safety-data/dftRoadSafetyData_Vehicles_2017.zip',\n",
    "                          'C:/Users/ianke/Desktop/vehicle.zip')\n",
    "\n",
    "#get data dictionary info\n",
    "urllib.request.urlretrieve('http://data.dft.gov.uk/road-accidents-safety-data/Road-Accident-Safety-Data-Guide.xls',\n",
    "                          'C:/Users/ianke/Desktop/dictionary.xls')"
   ]
  },
  {
   "cell_type": "markdown",
   "metadata": {},
   "source": [
    "## Unzip the downloaded files and extract the .csv data files"
   ]
  },
  {
   "cell_type": "code",
   "execution_count": 19,
   "metadata": {},
   "outputs": [],
   "source": [
    "#unzip accident data\n",
    "accidentZip = zipfile.ZipFile('C:/Users/ianke/Desktop/accidents.zip', 'r')\n",
    "accidentZip.extractall('C:/Users/ianke/Desktop/')\n",
    "accidentZip.close()\n",
    "\n",
    "#unzip casualty data\n",
    "casualtyZip = zipfile.ZipFile('C:/Users/ianke/Desktop/casualties.zip', 'r')\n",
    "casualtyZip.extractall('C:/Users/ianke/Desktop/')\n",
    "casualtyZip.close()\n",
    "\n",
    "#unzip vehicle data\n",
    "casualtyZip = zipfile.ZipFile('C:/Users/ianke/Desktop/vehicle.zip', 'r')\n",
    "casualtyZip.extractall('C:/Users/ianke/Desktop/')\n",
    "casualtyZip.close()"
   ]
  },
  {
   "cell_type": "markdown",
   "metadata": {},
   "source": [
    "## Delete the unnecessary zip files"
   ]
  },
  {
   "cell_type": "code",
   "execution_count": 22,
   "metadata": {},
   "outputs": [],
   "source": [
    "#delete zip folders\n",
    "os.remove('C:/Users/ianke/Desktop/accidents.zip')\n",
    "os.remove('C:/Users/ianke/Desktop/casualties.zip')\n",
    "os.remove('C:/Users/ianke/Desktop/vehicle.zip')"
   ]
  },
  {
   "cell_type": "markdown",
   "metadata": {},
   "source": [
    "## Fix a header in the \"accidents\" csv\n",
    "\n",
    "In a later query having the parenthesis in the column header caused some problems."
   ]
  },
  {
   "cell_type": "code",
   "execution_count": 23,
   "metadata": {},
   "outputs": [],
   "source": [
    "#read in csv\n",
    "headerfix = pd.read_csv(\"C:/Users/ianke/Desktop/Acc.csv\", low_memory=False)\n",
    "\n",
    "#change header name\n",
    "headerfix = headerfix.rename(columns={'Local_Authority_(District)': 'Local_Authority_District'})\n",
    "\n",
    "#output csv\n",
    "headerfix.to_csv(\"C:/Users/ianke/Desktop/Acc.csv\", index=False)"
   ]
  },
  {
   "cell_type": "markdown",
   "metadata": {},
   "source": [
    "## Create spark dataframes to enable spark.sql querying\n",
    "\n",
    "These dataframes will be directly queried when analyzing and vizualizing the data. "
   ]
  },
  {
   "cell_type": "code",
   "execution_count": 41,
   "metadata": {},
   "outputs": [],
   "source": [
    "#create accidents Spark dataframe\n",
    "accidents = sqlCtx.read.option(\"header\",\"true\").csv(\"C:/Users/ianke/Desktop/Acc.csv\")\n",
    "\n",
    "#create casualties Spark dataframe\n",
    "casualties = sqlCtx.read.option(\"header\",\"true\").csv(\"C:/Users/ianke/Desktop/Cas.csv\")\n",
    "\n",
    "#create vehicles Spark dataframe\n",
    "vehicles = sqlCtx.read.option(\"header\",\"true\").csv(\"C:/Users/ianke/Desktop/Veh.csv\")"
   ]
  },
  {
   "cell_type": "markdown",
   "metadata": {},
   "source": [
    "## Create a dictionary object \n",
    "\n",
    "The dictionary object can reference each column description tab in the original .xls file. "
   ]
  },
  {
   "cell_type": "code",
   "execution_count": 36,
   "metadata": {},
   "outputs": [],
   "source": [
    "#create dictionary variable\n",
    "dictionary = pd.ExcelFile('C:/Users/ianke/Desktop/dictionary.xls')\n",
    "\n",
    "#create police force dictionary by specifying the tab of the dictionary variable\n",
    "policeForcePD = pd.read_excel(dictionary, 'Police Force')\n",
    "\n",
    "#convert to spark dataframe\n",
    "policeForce = sqlCtx.createDataFrame(policeForcePD)"
   ]
  },
  {
   "cell_type": "markdown",
   "metadata": {},
   "source": [
    "# Data Exploration\n",
    "\n",
    "The following section outlines different queries and vizualizations I used to explore the data. There isn't really a method to my madness, I just created queries I thought might be interesting. "
   ]
  },
  {
   "cell_type": "markdown",
   "metadata": {},
   "source": [
    "## Find the most fatal accidents by top three police forces"
   ]
  },
  {
   "cell_type": "code",
   "execution_count": 67,
   "metadata": {},
   "outputs": [],
   "source": [
    "#query spark dataframes to get top three police forces (joining accidents dataframe and dictionary dataframe)\n",
    "top3 = accidents.join(policeForce, accidents.Police_Force == policeForce.code, \"left_outer\") \\\n",
    "                .select((policeForce.label).alias(\"police_force\")) \\\n",
    "                .where(accidents.Accident_Severity == 1) \\\n",
    "                .groupby(\"police_force\").count().withColumnRenamed(\"count\", \"number_of_fatal\") \\\n",
    "                .orderBy(\"Number_of_Fatal\", ascending=False) \\\n",
    "                .limit(3)\n",
    "\n",
    "#convert to pandas dataframe for vizualization\n",
    "top3 = top3.toPandas()"
   ]
  },
  {
   "cell_type": "markdown",
   "metadata": {},
   "source": [
    "## Vizualize most fatal accidents by top three police forces"
   ]
  },
  {
   "cell_type": "code",
   "execution_count": 66,
   "metadata": {},
   "outputs": [
    {
     "data": {
      "image/png": "[encoded data removed]",
      "text/plain": [
       "<Figure size 432x288 with 1 Axes>"
      ]
     },
     "metadata": {
      "needs_background": "light"
     },
     "output_type": "display_data"
    }
   ],
   "source": [
    "#display visualization in jupyter output inline\n",
    "%matplotlib inline\n",
    "\n",
    "#create bar chart\n",
    "plt.bar(top3.police_force, height=top3.number_of_fatal, color='black')\n",
    "plt.xlabel('Police Force')\n",
    "plt.ylabel('Number of Fatal Accidents')\n",
    "plt.title('Top 3 Most Fatal Accidents', fontdict = {'fontsize' : 16})\n",
    "plt.style.use('ggplot')\n",
    "plt.show()"
   ]
  },
  {
   "cell_type": "code",
   "execution_count": null,
   "metadata": {},
   "outputs": [],
   "source": []
  }
 ],
 "metadata": {
  "kernelspec": {
   "display_name": "Python 3",
   "language": "python",
   "name": "python3"
  },
  "language_info": {
   "codemirror_mode": {
    "name": "ipython",
    "version": 3
   },
   "file_extension": ".py",
   "mimetype": "text/x-python",
   "name": "python",
   "nbconvert_exporter": "python",
   "pygments_lexer": "ipython3",
   "version": "3.7.3"
  }
 },
 "nbformat": 4,
 "nbformat_minor": 1
}
