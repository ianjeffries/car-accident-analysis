{
 "cells": [
  {
   "cell_type": "markdown",
   "metadata": {},
   "source": [
    "# Introduction\n",
    "\n",
    "*Road safety is a very important topic around the world, and in the United Kingdom it's no different. Each year thousands of accidents are reported to the police and details such as location, date, weather, road conditions, and number of causalities are recorded. The consultant, Ian Jeffries, a Data Scientist working for the Department of Transport and Infrastructure, has been tasked with better understanding the root cause of high accident frequencies by \"the client\". There are three datasets to be analyzed: Accident information from 2017, Casualty information from 2017, and Vehicle information from 2017. These files are freely available for download on data.gov.uk. [1] The goal is to make roads safer for everyone by digging into common denominators and using visualization to make sense of the data. Seven specific questions were posed to the consultant, which will be addressed in the following brief.*"
   ]
  },
  {
   "cell_type": "code",
   "execution_count": 18,
   "metadata": {},
   "outputs": [],
   "source": [
    "#import necessary packages\n",
    "import pyspark, os, zipfile\n",
    "import pandas as pd\n",
    "import urllib.request"
   ]
  },
  {
   "cell_type": "code",
   "execution_count": 17,
   "metadata": {},
   "outputs": [
    {
     "data": {
      "text/plain": [
       "('C:/Users/ianke/Desktop/dictionary.xls',\n",
       " <http.client.HTTPMessage at 0x1af0c0d0160>)"
      ]
     },
     "execution_count": 17,
     "metadata": {},
     "output_type": "execute_result"
    }
   ],
   "source": [
    "#perform get request to download files\n",
    "\n",
    "#get accident data\n",
    "urllib.request.urlretrieve('http://data.dft.gov.uk.s3.amazonaws.com/road-accidents-safety-data/dftRoadSafetyData_Accidents_2017.zip',\n",
    "                          'C:/Users/ianke/Desktop/accidents.zip')\n",
    "\n",
    "#get casualty data\n",
    "urllib.request.urlretrieve('http://data.dft.gov.uk.s3.amazonaws.com/road-accidents-safety-data/dftRoadSafetyData_Casualties_2017.zip',\n",
    "                          'C:/Users/ianke/Desktop/casualties.zip')\n",
    "\n",
    "#get vehicle data\n",
    "urllib.request.urlretrieve('http://data.dft.gov.uk.s3.amazonaws.com/road-accidents-safety-data/dftRoadSafetyData_Vehicles_2017.zip',\n",
    "                          'C:/Users/ianke/Desktop/vehicle.zip')\n",
    "\n",
    "#get dictionary info\n",
    "urllib.request.urlretrieve('http://data.dft.gov.uk/road-accidents-safety-data/Road-Accident-Safety-Data-Guide.xls',\n",
    "                          'C:/Users/ianke/Desktop/dictionary.xls')"
   ]
  },
  {
   "cell_type": "code",
   "execution_count": 19,
   "metadata": {},
   "outputs": [],
   "source": [
    "#unzip accident data\n",
    "accidentZip = zipfile.ZipFile('C:/Users/ianke/Desktop/accidents.zip', 'r')\n",
    "accidentZip.extractall('C:/Users/ianke/Desktop/')\n",
    "accidentZip.close()\n",
    "\n",
    "#unzip casualty data\n",
    "casualtyZip = zipfile.ZipFile('C:/Users/ianke/Desktop/casualties.zip', 'r')\n",
    "casualtyZip.extractall('C:/Users/ianke/Desktop/')\n",
    "casualtyZip.close()\n",
    "\n",
    "#unzip vehicle data\n",
    "casualtyZip = zipfile.ZipFile('C:/Users/ianke/Desktop/vehicle.zip', 'r')\n",
    "casualtyZip.extractall('C:/Users/ianke/Desktop/')\n",
    "casualtyZip.close()"
   ]
  },
  {
   "cell_type": "code",
   "execution_count": 22,
   "metadata": {},
   "outputs": [],
   "source": [
    "#delete zip folders\n",
    "os.remove('C:/Users/ianke/Desktop/accidents.zip')\n",
    "os.remove('C:/Users/ianke/Desktop/casualties.zip')\n",
    "os.remove('C:/Users/ianke/Desktop/vehicle.zip')"
   ]
  },
  {
   "cell_type": "code",
   "execution_count": null,
   "metadata": {},
   "outputs": [],
   "source": []
  },
  {
   "cell_type": "markdown",
   "metadata": {},
   "source": [
    "## Query to Locate Top 3 Police Forces\n",
    "\n",
    "Using the newly created dictionary, the data can be aggregated by most fatal accidents by police force. A value of '1' in the 'Accident_Severity' column indicates whether the accident was fatal. Using this information, a simple query returns the top three polices forces by number of fatal accidents. The results of this query will be saved in a newly created 'Reports' folder to create vizualisations."
   ]
  },
  {
   "cell_type": "code",
   "execution_count": null,
   "metadata": {},
   "outputs": [],
   "source": []
  },
  {
   "cell_type": "markdown",
   "metadata": {
    "collapsed": true
   },
   "source": [
    "## Visualizing Top 3 Police Forces by Most Fatal Accidents\n",
    "\n",
    "Now that the query is saved in a csv file, the pandas [2] and matplotlib [4] packages can be used within python to create a simple bar chart of the results. (These packages will be used for all visualizations)"
   ]
  },
  {
   "cell_type": "code",
   "execution_count": null,
   "metadata": {
    "collapsed": true
   },
   "outputs": [],
   "source": [
    "#install nessesary packages on machine\n",
    "#!sudo pip install matplotlib\n",
    "\n",
    "#display visualization in jupyter output inline\n",
    "%matplotlib inline\n",
    "\n",
    "#import packages\n",
    "import matplotlib.pyplot as plt\n",
    "import pandas as pd\n",
    "\n",
    "#read csv into dataframe\n",
    "top_three = pd.read_csv('~/Desktop/Assignment_files/Reports/QuestionOne.csv')\n",
    "\n",
    "#create bar chart\n",
    "plt.bar(top_three.police_force, height=top_three.number_of_fatal, color='black')\n",
    "plt.xlabel('Police Force')\n",
    "plt.ylabel('Number of Fatal Accidents')\n",
    "plt.title('Top 3 Most Fatal Accidents', fontdict = {'fontsize' : 16})\n",
    "plt.style.use('ggplot')\n",
    "plt.show()"
   ]
  },
  {
   "cell_type": "markdown",
   "metadata": {},
   "source": [
    "## Conclusions\n",
    "\n",
    "As seen above, the three Police Forces that have the most fatal accidents are the Metropolitan Police, Thames Valley Police Force, and Kent. The chart above shows that Metropolitan Police have substantially more than the next two Police Forces, with the total number of fatal accidents over double the next highest."
   ]
  },
  {
   "cell_type": "markdown",
   "metadata": {
    "collapsed": true
   },
   "source": [
    "# Question Two\n",
    "\n",
    "The second question wishes to find the top 5 local authorities that have the most serious accidents. There are two variables of interest: 'Accident_Severity' and 'Local_Authority_District'. To find all serious accidents, 'Accident_Severity' must be filtered to the value '2', which equals 'Serious'. The 'Local_Authority_District' variable can be used to find the top 5 local authority districts. A data dictionary will need to be created to identify which local authority relates to the coded values saved in the 'Accidents' database. "
   ]
  },
  {
   "cell_type": "markdown",
   "metadata": {
    "collapsed": true
   },
   "source": [
    "## Data Dictionaries for Local Authority Variable\n",
    "\n",
    "The following code creates a new dictionary table for the 'Local_Authority_District' variable:"
   ]
  },
  {
   "cell_type": "code",
   "execution_count": null,
   "metadata": {
    "collapsed": true
   },
   "outputs": [],
   "source": [
    "#create Local Authority District Data Dictionary\n",
    "! impala-shell -q \"USE roadSafety; \\\n",
    "                   CREATE TABLE local_Auth_Dist_Dict ( \\\n",
    "                        code int, \\\n",
    "                        Local_Authority_District string \\\n",
    "                   ) \\\n",
    "                   ROW FORMAT DELIMITED \\\n",
    "                   FIELDS TERMINATED BY ',';\"\n",
    "\n",
    "#insert values into dictionary\n",
    "! impala-shell -q \"USE roadSafety; \\\n",
    "                   INSERT INTO local_Auth_Dist_Dict \\\n",
    "                   VALUES \\\n",
    "                    (1, 'Westminster'), \\\n",
    "                    (2, 'Camden'), \\\n",
    "                    (3, 'Islington'), \\\n",
    "                    (4, 'Hackney'), \\\n",
    "                    (5, 'Tower Hamlets'), \\\n",
    "                    (6, 'Greenwich'), \\\n",
    "                    (7, 'Lewisham'), \\\n",
    "                    (8, 'Southwark'), \\\n",
    "                    (9, 'Lambeth'), \\\n",
    "                    (10, 'Wandsworth'), \\\n",
    "                    (11, 'Hammersmith and Fulham'), \\\n",
    "                    (12, 'Kensington and Chelsea'), \\\n",
    "                    (13, 'Waltham Forest'), \\\n",
    "                    (14, 'Redbridge'), \\\n",
    "                    (15, 'Havering'), \\\n",
    "                    (16, 'Barking and Dagenham'), \\\n",
    "                    (17, 'Newham'), \\\n",
    "                    (18, 'Bexley'), \\\n",
    "                    (19, 'Bromley'), \\\n",
    "                    (20, 'Croydon'), \\\n",
    "                    (21, 'Sutton'), \\\n",
    "                    (22, 'Merton'), \\\n",
    "                    (23, 'Kingston upon Thames'), \\\n",
    "                    (24, 'Richmond upon Thames'), \\\n",
    "                    (25, 'Hounslow'), \\\n",
    "                    (26, 'Hillingdon'), \\\n",
    "                    (27, 'Ealing'), \\\n",
    "                    (28, 'Brent'), \\\n",
    "                    (29, 'Harrow'), \\\n",
    "                    (30, 'Barnet'), \\\n",
    "                    (31, 'Haringey'), \\\n",
    "                    (32, 'Enfield'), \\\n",
    "                    (33, 'Hertsmere'), \\\n",
    "                    (38, 'Epsom and Ewell'), \\\n",
    "                    (40, 'Spelthorne'), \\\n",
    "                    (57, 'London Airport (Heathrow)'), \\\n",
    "                    (60, 'Allerdale'), \\\n",
    "                    (61, 'Barrow-in-Furness'), \\\n",
    "                    (62, 'Carlisle'), \\\n",
    "                    (63, 'Copeland'), \\\n",
    "                    (64, 'Eden'), \\\n",
    "                    (65, 'South Lakeland'), \\\n",
    "                    (70, 'Blackburn with Darwen'), \\\n",
    "                    (71, 'Blackpool'), \\\n",
    "                    (72, 'Burnley'), \\\n",
    "                    (73, 'Chorley'), \\\n",
    "                    (74, 'Fylde'), \\\n",
    "                    (75, 'Hyndburn'), \\\n",
    "                    (76, 'Lancaster'), \\\n",
    "                    (77, 'Pendle'), \\\n",
    "                    (79, 'Preston'), \\\n",
    "                    (80, 'Ribble Valley'), \\\n",
    "                    (82, 'Rossendale'), \\\n",
    "                    (83, 'South Ribble'), \\\n",
    "                    (84, 'West Lancashire'), \\\n",
    "                    (85, 'Wyre'), \\\n",
    "                    (90, 'Knowsley'), \\\n",
    "                    (91, 'Liverpool'), \\\n",
    "                    (92, 'St. Helens'), \\\n",
    "                    (93, 'Sefton'), \\\n",
    "                    (95, 'Wirral'), \\\n",
    "                    (100, 'Bolton'), \\\n",
    "                    (101, 'Bury'), \\\n",
    "                    (102, 'Manchester'), \\\n",
    "                    (104, 'Oldham'), \\\n",
    "                    (106, 'Rochdale'), \\\n",
    "                    (107, 'Salford'), \\\n",
    "                    (109, 'Stockport'), \\\n",
    "                    (110, 'Tameside'), \\\n",
    "                    (112, 'Trafford'), \\\n",
    "                    (114, 'Wigan'), \\\n",
    "                    (120, 'Chester'), \\\n",
    "                    (121, 'Congleton'), \\\n",
    "                    (122, 'Crewe and Nantwich'), \\\n",
    "                    (123, 'Ellesmere Port and Neston'), \\\n",
    "                    (124, 'Halton'), \\\n",
    "                    (126, 'Macclesfield'), \\\n",
    "                    (127, 'Vale Royal'), \\\n",
    "                    (128, 'Warrington'), \\\n",
    "                    (129, 'Cheshire East'), \\\n",
    "                    (130, 'Cheshire West and Chester'), \\\n",
    "                    (139, 'Northumberland'), \\\n",
    "                    (140, 'Alnwick'), \\\n",
    "                    (141, 'Berwick-upon-Tweed'), \\\n",
    "                    (142, 'Blyth Valley'), \\\n",
    "                    (143, 'Castle Morpeth'), \\\n",
    "                    (144, 'Tynedale'), \\\n",
    "                    (145, 'Wansbeck'), \\\n",
    "                    (146, 'Gateshead'), \\\n",
    "                    (147, 'Newcastle upon Tyne'), \\\n",
    "                    (148, 'North Tyneside'), \\\n",
    "                    (149, 'South Tyneside'), \\\n",
    "                    (150, 'Sunderland'), \\\n",
    "                    (160, 'Chester-le-Street'), \\\n",
    "                    (161, 'Darlington'), \\\n",
    "                    (162, 'Derwentside'), \\\n",
    "                    (163, 'Durham'), \\\n",
    "                    (164, 'Easington'), \\\n",
    "                    (165, 'Sedgefield'), \\\n",
    "                    (166, 'Teesdale'), \\\n",
    "                    (168, 'Wear Valley'), \\\n",
    "                    (169, 'County Durham'), \\\n",
    "                    (180, 'Craven'), \\\n",
    "                    (181, 'Hambleton'), \\\n",
    "                    (182, 'Harrogate'), \\\n",
    "                    (184, 'Richmondshire'), \\\n",
    "                    (185, 'Ryedale'), \\\n",
    "                    (186, 'Scarborough'), \\\n",
    "                    (187, 'Selby'), \\\n",
    "                    (189, 'York'), \\\n",
    "                    (200, 'Bradford'), \\\n",
    "                    (202, 'Calderdale'), \\\n",
    "                    (203, 'Kirklees'), \\\n",
    "                    (204, 'Leeds'), \\\n",
    "                    (206, 'Wakefield'), \\\n",
    "                    (210, 'Barnsley'), \\\n",
    "                    (211, 'Doncaster'), \\\n",
    "                    (213, 'Rotherham'), \\\n",
    "                    (215, 'Sheffield'), \\\n",
    "                    (228, 'Kingston upon Hull, City of'), \\\n",
    "                    (231, 'East Riding of Yorkshire'), \\\n",
    "                    (232, 'North Lincolnshire'), \\\n",
    "                    (233, 'North East Lincolnshire'), \\\n",
    "                    (240, 'Hartlepool'), \\\n",
    "                    (241, 'Redcar and Cleveland'), \\\n",
    "                    (243, 'Middlesbrough'), \\\n",
    "                    (245, 'Stockton-on-Tees'), \\\n",
    "                    (250, 'Cannock Chase'), \\\n",
    "                    (251, 'East Staffordshire'), \\\n",
    "                    (252, 'Lichfield'), \\\n",
    "                    (253, 'Newcastle-under-Lyme'), \\\n",
    "                    (254, 'South Staffordshire'), \\\n",
    "                    (255, 'Stafford'), \\\n",
    "                    (256, 'Staffordshire Moorlands'), \\\n",
    "                    (257, 'Stoke-on-Trent'), \\\n",
    "                    (258, 'Tamworth'), \\\n",
    "                    (270, 'Bromsgrove'), \\\n",
    "                    (273, 'Malvern Hills'), \\\n",
    "                    (274, 'Redditch'), \\\n",
    "                    (276, 'Worcester'), \\\n",
    "                    (277, 'Wychavon'), \\\n",
    "                    (278, 'Wyre Forest'), \\\n",
    "                    (279, 'Bridgnorth'), \\\n",
    "                    (280, 'North Shropshire'), \\\n",
    "                    (281, 'Oswestry'), \\\n",
    "                    (282, 'Shrewsbury and Atcham'), \\\n",
    "                    (283, 'South Shropshire'), \\\n",
    "                    (284, 'Telford and Wrekin'), \\\n",
    "                    (285, 'Herefordshire, County of '), \\\n",
    "                    (286, 'Shropshire'), \\\n",
    "                    (290, 'North Warwickshire'), \\\n",
    "                    (291, 'Nuneaton and Bedworth'), \\\n",
    "                    (292, 'Rugby '), \\\n",
    "                    (293, 'Stratford-upon-Avon'), \\\n",
    "                    (294, 'Warwick'), \\\n",
    "                    (300, 'Birmingham'), \\\n",
    "                    (302, 'Coventry'), \\\n",
    "                    (303, 'Dudley'), \\\n",
    "                    (305, 'Sandwell'), \\\n",
    "                    (306, 'Solihull'), \\\n",
    "                    (307, 'Walsall'), \\\n",
    "                    (309, 'Wolverhampton'), \\\n",
    "                    (320, 'Amber Valley'), \\\n",
    "                    (321, 'Bolsover'), \\\n",
    "                    (322, 'Chesterfield'), \\\n",
    "                    (323, 'Derby'), \\\n",
    "                    (324, 'Erewash'), \\\n",
    "                    (325, 'High Peak'), \\\n",
    "                    (327, 'North East Derbyshire'), \\\n",
    "                    (328, 'South Derbyshire'), \\\n",
    "                    (329, 'Derbyshire Dales'), \\\n",
    "                    (340, 'Ashfield'), \\\n",
    "                    (341, 'Bassetlaw'), \\\n",
    "                    (342, 'Broxtowe'), \\\n",
    "                    (343, 'Gedling'), \\\n",
    "                    (344, 'Mansfield'), \\\n",
    "                    (345, 'Newark and Sherwood'), \\\n",
    "                    (346, 'Nottingham'), \\\n",
    "                    (347, 'Rushcliffe'), \\\n",
    "                    (350, 'Boston'), \\\n",
    "                    (351, 'East Lindsey'), \\\n",
    "                    (352, 'Lincoln'), \\\n",
    "                    (353, 'North Kesteven'), \\\n",
    "                    (354, 'South Holland'), \\\n",
    "                    (355, 'South Kesteven'), \\\n",
    "                    (356, 'West Lindsey'), \\\n",
    "                    (360, 'Blaby'), \\\n",
    "                    (361, 'Hinckley and Bosworth'), \\\n",
    "                    (362, 'Charnwood'), \\\n",
    "                    (363, 'Harborough'), \\\n",
    "                    (364, 'Leicester'), \\\n",
    "                    (365, 'Melton'), \\\n",
    "                    (366, 'North West Leicestershire'), \\\n",
    "                    (367, 'Oadby and Wigston'), \\\n",
    "                    (368, 'Rutland'), \\\n",
    "                    (380, 'Corby'), \\\n",
    "                    (381, 'Daventry'), \\\n",
    "                    (382, 'East Northamptonshire'), \\\n",
    "                    (383, 'Kettering'), \\\n",
    "                    (384, 'Northampton'), \\\n",
    "                    (385, 'South Northamptonshire'), \\\n",
    "                    (386, 'Wellingborough'), \\\n",
    "                    (390, 'Cambridge'), \\\n",
    "                    (391, 'East Cambridgeshire'), \\\n",
    "                    (392, 'Fenland'), \\\n",
    "                    (393, 'Huntingdonshire'), \\\n",
    "                    (394, 'Peterborough'), \\\n",
    "                    (395, 'South Cambridgeshire'), \\\n",
    "                    (400, 'Breckland'), \\\n",
    "                    (401, 'Broadland'), \\\n",
    "                    (402, 'Great Yarmouth'), \\\n",
    "                    (404, 'Norwich'), \\\n",
    "                    (405, 'North Norfolk'), \\\n",
    "                    (406, 'South Norfolk'), \\\n",
    "                    (407, 'Kings Lynn and West Norfolk'), \\\n",
    "                    (410, 'Babergh'), \\\n",
    "                    (411, 'Forest Heath'), \\\n",
    "                    (412, 'Ipswich'), \\\n",
    "                    (413, 'Mid Suffolk'), \\\n",
    "                    (414, 'St. Edmundsbury'), \\\n",
    "                    (415, 'Suffolk Coastal'), \\\n",
    "                    (416, 'Waveney'), \\\n",
    "                    (420, 'Bedford'), \\\n",
    "                    (421, 'Luton'), \\\n",
    "                    (422, 'Mid Bedfordshire'), \\\n",
    "                    (423, 'South Bedfordshire'), \\\n",
    "                    (424, 'Central Bedfordshire'), \\\n",
    "                    (430, 'Broxbourne'), \\\n",
    "                    (431, 'Dacorum'), \\\n",
    "                    (432, 'East Hertfordshire'), \\\n",
    "                    (433, 'North Hertfordshire'), \\\n",
    "                    (434, 'St. Albans'), \\\n",
    "                    (435, 'Stevenage'), \\\n",
    "                    (436, 'Three Rivers'), \\\n",
    "                    (437, 'Watford'), \\\n",
    "                    (438, 'Welwyn Hatfield'), \\\n",
    "                    (450, 'Basildon'), \\\n",
    "                    (451, 'Braintree'), \\\n",
    "                    (452, 'Brentwood'), \\\n",
    "                    (453, 'Castle Point'), \\\n",
    "                    (454, 'Chelmsford'), \\\n",
    "                    (455, 'Colchester'), \\\n",
    "                    (456, 'Epping Forest'), \\\n",
    "                    (457, 'Harlow'), \\\n",
    "                    (458, 'Maldon'), \\\n",
    "                    (459, 'Rochford'), \\\n",
    "                    (460, 'Southend-on-Sea'), \\\n",
    "                    (461, 'Tendring'), \\\n",
    "                    (462, 'Thurrock'), \\\n",
    "                    (463, 'Uttlesford'), \\\n",
    "                    (470, 'Bracknell Forest'), \\\n",
    "                    (471, 'West Berkshire'), \\\n",
    "                    (472, 'Reading'), \\\n",
    "                    (473, 'Slough'), \\\n",
    "                    (474, 'Windsor and Maidenhead'), \\\n",
    "                    (475, 'Wokingham'), \\\n",
    "                    (476, 'Aylesbury Vale'), \\\n",
    "                    (477, 'South Bucks'), \\\n",
    "                    (478, 'Chiltern'), \\\n",
    "                    (479, 'Milton Keynes'), \\\n",
    "                    (480, 'Wycombe'), \\\n",
    "                    (481, 'Cherwell'), \\\n",
    "                    (482, 'Oxford'), \\\n",
    "                    (483, 'Vale of White Horse'), \\\n",
    "                    (484, 'South Oxfordshire'), \\\n",
    "                    (485, 'West Oxfordshire'), \\\n",
    "                    (490, 'Basingstoke and Deane'), \\\n",
    "                    (491, 'Eastleigh'), \\\n",
    "                    (492, 'Fareham'), \\\n",
    "                    (493, 'Gosport'), \\\n",
    "                    (494, 'Hart'), \\\n",
    "                    (495, 'Havant'), \\\n",
    "                    (496, 'New Forest'), \\\n",
    "                    (497, 'East Hampshire'), \\\n",
    "                    (498, 'Portsmouth'), \\\n",
    "                    (499, 'Rushmoor'), \\\n",
    "                    (500, 'Southampton '), \\\n",
    "                    (501, 'Test Valley'), \\\n",
    "                    (502, 'Winchester'), \\\n",
    "                    (505, 'Isle of Wight'), \\\n",
    "                    (510, 'Elmbridge'), \\\n",
    "                    (511, 'Guildford'), \\\n",
    "                    (512, 'Mole Valley'), \\\n",
    "                    (513, 'Reigate and Banstead'), \\\n",
    "                    (514, 'Runnymede'), \\\n",
    "                    (515, 'Surrey Heath'), \\\n",
    "                    (516, 'Tandridge'), \\\n",
    "                    (517, 'Waverley'), \\\n",
    "                    (518, 'Woking'), \\\n",
    "                    (530, 'Ashford'), \\\n",
    "                    (531, 'Canterbury'), \\\n",
    "                    (532, 'Dartford'), \\\n",
    "                    (533, 'Dover'), \\\n",
    "                    (535, 'Gravesham'), \\\n",
    "                    (536, 'Maidstone'), \\\n",
    "                    (538, 'Sevenoaks'), \\\n",
    "                    (539, 'Shepway'), \\\n",
    "                    (540, 'Swale'), \\\n",
    "                    (541, 'Thanet'), \\\n",
    "                    (542, 'Tonbridge and Malling'), \\\n",
    "                    (543, 'Tunbridge Wells'), \\\n",
    "                    (544, 'Medway'), \\\n",
    "                    (551, 'Eastbourne'), \\\n",
    "                    (552, 'Hastings'), \\\n",
    "                    (554, 'Lewes'), \\\n",
    "                    (555, 'Rother'), \\\n",
    "                    (556, 'Wealden'), \\\n",
    "                    (557, 'Adur'), \\\n",
    "                    (558, 'Arun'), \\\n",
    "                    (559, 'Chichester'), \\\n",
    "                    (560, 'Crawley'), \\\n",
    "                    (562, 'Horsham'), \\\n",
    "                    (563, 'Mid Sussex'), \\\n",
    "                    (564, 'Worthing'), \\\n",
    "                    (565, 'Brighton and Hove'), \\\n",
    "                    (570, 'City of London'), \\\n",
    "                    (580, 'East Devon'), \\\n",
    "                    (581, 'Exeter'), \\\n",
    "                    (582, 'North Devon'), \\\n",
    "                    (583, 'Plymouth'), \\\n",
    "                    (584, 'South Hams'), \\\n",
    "                    (585, 'Teignbridge'), \\\n",
    "                    (586, 'Mid Devon'), \\\n",
    "                    (587, 'Torbay'), \\\n",
    "                    (588, 'Torridge'), \\\n",
    "                    (589, 'West Devon'), \\\n",
    "                    (590, 'Caradon'), \\\n",
    "                    (591, 'Carrick'), \\\n",
    "                    (592, 'Kerrier'), \\\n",
    "                    (593, 'North Cornwall'), \\\n",
    "                    (594, 'Penwith'), \\\n",
    "                    (595, 'Restormel'), \\\n",
    "                    (596, 'Cornwall'), \\\n",
    "                    (601, 'Bristol, City of'), \\\n",
    "                    (605, 'North Somerset'), \\\n",
    "                    (606, 'Mendip'), \\\n",
    "                    (607, 'Sedgemoor'), \\\n",
    "                    (608, 'Taunton Deane'), \\\n",
    "                    (609, 'West Somerset'), \\\n",
    "                    (610, 'South Somerset'), \\\n",
    "                    (611, 'Bath and North East Somerset'), \\\n",
    "                    (612, 'South Gloucestershire'), \\\n",
    "                    (620, 'Cheltenham'), \\\n",
    "                    (621, 'Cotswold'), \\\n",
    "                    (622, 'Forest of Dean'), \\\n",
    "                    (623, 'Gloucester'), \\\n",
    "                    (624, 'Stroud'), \\\n",
    "                    (625, 'Tewkesbury'), \\\n",
    "                    (630, 'Kennet'), \\\n",
    "                    (631, 'North Wiltshire'), \\\n",
    "                    (632, 'Salisbury'), \\\n",
    "                    (633, 'Swindon'), \\\n",
    "                    (634, 'West Wiltshire'), \\\n",
    "                    (635, 'Wiltshire'), \\\n",
    "                    (640, 'Bournemouth'), \\\n",
    "                    (641, 'Christchurch'), \\\n",
    "                    (642, 'North Dorset'), \\\n",
    "                    (643, 'Poole'), \\\n",
    "                    (644, 'Purbeck'), \\\n",
    "                    (645, 'West Dorset'), \\\n",
    "                    (646, 'Weymouth and Portland'), \\\n",
    "                    (647, 'East Dorset'), \\\n",
    "                    (720, 'Isle of Anglesey'), \\\n",
    "                    (721, 'Conwy'), \\\n",
    "                    (722, 'Gwynedd'), \\\n",
    "                    (723, 'Denbighshire'), \\\n",
    "                    (724, 'Flintshire'), \\\n",
    "                    (725, 'Wrexham'), \\\n",
    "                    (730, 'Blaenau Gwent'), \\\n",
    "                    (731, 'Caerphilly'), \\\n",
    "                    (732, 'Monmouthshire'), \\\n",
    "                    (733, 'Newport'), \\\n",
    "                    (734, 'Torfaen'), \\\n",
    "                    (740, 'Bridgend'), \\\n",
    "                    (741, 'Cardiff'), \\\n",
    "                    (742, 'Merthyr Tydfil'), \\\n",
    "                    (743, 'Neath Port Talbot'), \\\n",
    "                    (744, 'Rhondda, Cynon, Taff'), \\\n",
    "                    (745, 'Swansea'), \\\n",
    "                    (746, 'The Vale of Glamorgan'), \\\n",
    "                    (750, 'Ceredigion'), \\\n",
    "                    (751, 'Carmarthenshire'), \\\n",
    "                    (752, 'Pembrokeshire'), \\\n",
    "                    (753, 'Powys'), \\\n",
    "                    (910, 'Aberdeen City'), \\\n",
    "                    (911, 'Aberdeenshire'), \\\n",
    "                    (912, 'Angus'), \\\n",
    "                    (913, 'Argyll and Bute'), \\\n",
    "                    (914, 'Scottish Borders'), \\\n",
    "                    (915, 'Clackmannanshire'), \\\n",
    "                    (916, 'West Dunbartonshire'), \\\n",
    "                    (917, 'Dumfries and Galloway'), \\\n",
    "                    (918, 'Dundee City'), \\\n",
    "                    (919, 'East Ayrshire'), \\\n",
    "                    (920, 'East Dunbartonshire'), \\\n",
    "                    (921, 'East Lothian'), \\\n",
    "                    (922, 'East Renfrewshire'), \\\n",
    "                    (923, 'Edinburgh, City of'), \\\n",
    "                    (924, 'Falkirk'), \\\n",
    "                    (925, 'Fife'), \\\n",
    "                    (926, 'Glasgow City'), \\\n",
    "                    (927, 'Highland'), \\\n",
    "                    (928, 'Inverclyde'), \\\n",
    "                    (929, 'Midlothian'), \\\n",
    "                    (930, 'Moray'), \\\n",
    "                    (931, 'North Ayrshire'), \\\n",
    "                    (932, 'North Lanarkshire'), \\\n",
    "                    (933, 'Orkney Islands'), \\\n",
    "                    (934, 'Perth and Kinross'), \\\n",
    "                    (935, 'Renfrewshire'), \\\n",
    "                    (936, 'Shetland Islands'), \\\n",
    "                    (937, 'South Ayrshire'), \\\n",
    "                    (938, 'South Lanarkshire'), \\\n",
    "                    (939, 'Stirling'), \\\n",
    "                    (940, 'West Lothian'), \\\n",
    "                    (941, 'Western Isles');\""
   ]
  },
  {
   "cell_type": "markdown",
   "metadata": {},
   "source": [
    "## Query to Locate Top 5 Local Authorities\n",
    "\n",
    "Using the newly created dictionary, the data can be aggregated by local authority. A value of '2' in the 'Accident_Severity' column indicates whether the accident was serious. A query returns the top five local authorities by number of serious accidents. The results of this query will be saved in the 'Reports' folder."
   ]
  },
  {
   "cell_type": "code",
   "execution_count": null,
   "metadata": {
    "collapsed": true,
    "scrolled": true
   },
   "outputs": [],
   "source": [
    "#query to find top 5 local authorities by serious accidents\n",
    "! impala-shell -q \"SELECT d.local_authority_district, COUNT(*) AS Number_of_Serious \\\n",
    "                   FROM roadSafety.accidents AS a \\\n",
    "                    LEFT JOIN roadSafety.local_auth_dist_dict AS d \\\n",
    "                    ON a.local_authority_district = d.code \\\n",
    "                   WHERE a.Accident_Severity = 2 \\\n",
    "                   GROUP BY d.local_authority_district \\\n",
    "                   ORDER BY Number_of_Serious DESC \\\n",
    "                   LIMIT 5;\" \\\n",
    "                \n",
    "#export to CSV\n",
    "! impala-shell -B \\\n",
    "               -o ~/Desktop/Assignment_files/Reports/QuestionTwo.csv \\\n",
    "               --print_header \\\n",
    "               --output_delimiter=',' \\\n",
    "               -q \"SELECT d.local_authority_district AS Local_Authority, COUNT(*) AS Number_of_Serious \\\n",
    "                   FROM roadSafety.accidents AS a \\\n",
    "                    LEFT JOIN roadSafety.local_auth_dist_dict AS d \\\n",
    "                    ON a.local_authority_district = d.code \\\n",
    "                   WHERE a.Accident_Severity = 2 \\\n",
    "                   GROUP BY d.local_authority_district \\\n",
    "                   ORDER BY Number_of_Serious DESC \\\n",
    "                   LIMIT 5;\" \\"
   ]
  },
  {
   "cell_type": "markdown",
   "metadata": {
    "collapsed": true
   },
   "source": [
    "## Visualizing Top 5 Local Authorities by Most Serious Accidents\n",
    "\n",
    "Now that the query is saved in a csv file, the 'pandas' and 'Matplotlib' packages can be used within python to create a simple bar chart of the results:"
   ]
  },
  {
   "cell_type": "code",
   "execution_count": null,
   "metadata": {
    "collapsed": true
   },
   "outputs": [],
   "source": [
    "#display visualization in jupyter output inline\n",
    "%matplotlib inline\n",
    "\n",
    "#import packages\n",
    "import matplotlib.pyplot as plt\n",
    "import pandas as pd\n",
    "\n",
    "#read csv into dataframe\n",
    "top_five = pd.read_csv('~/Desktop/Assignment_files/Reports/QuestionTwo.csv')\n",
    "\n",
    "#create bar chart\n",
    "plt.bar(top_five.local_authority, height=top_five.number_of_serious, color='black')\n",
    "plt.xlabel('Local Authority District')\n",
    "plt.ylabel('Number of Serious Accidents')\n",
    "plt.title('Top 5 Most Serious Accidents', fontdict = {'fontsize' : 16})\n",
    "plt.style.use('ggplot')\n",
    "plt.show()"
   ]
  },
  {
   "cell_type": "markdown",
   "metadata": {},
   "source": [
    "## Conclusions\n",
    "\n",
    "The above chart shows the top 5 Local Authority Districts with the most serious accidents. Birmingham leads the way with 375, followed closely by Leeds with 291, Sheffield with 279, Westminster with 259 and Cornwall with 224. "
   ]
  },
  {
   "cell_type": "markdown",
   "metadata": {},
   "source": [
    "# Question Three\n",
    "\n",
    "The third question relates to the vehicle types that have been involved in the most serious and fatal accidents. There are two variables of interest: 'Accident_Severity' and 'Vehicle_Type'. To find all serious and fatal accidents, 'Accident_Severity' must be filtered to the values '1' and '2'. The 'Vehicle_Type' variable is stored as coded values, and must be defined with a dictionary. The 'accidents' and 'vehicles' tables will need to be joined to bring in both variables. "
   ]
  },
  {
   "cell_type": "markdown",
   "metadata": {},
   "source": [
    "## Creating Vehicle Type Data Dictionary"
   ]
  },
  {
   "cell_type": "code",
   "execution_count": null,
   "metadata": {
    "collapsed": true
   },
   "outputs": [],
   "source": [
    "#create Vehicle Type Data dictionary\n",
    "! impala-shell -q \"USE roadSafety; \\\n",
    "                   CREATE TABLE vehicle_Type_Dict ( \\\n",
    "                        code int, \\\n",
    "                        Vehicle_type string \\\n",
    "                   ) \\\n",
    "                   ROW FORMAT DELIMITED \\\n",
    "                   FIELDS TERMINATED BY ',';\"\n",
    "\n",
    "#insert values into dictionary\n",
    "! impala-shell -q \"USE roadSafety; \\\n",
    "                   INSERT INTO vehicle_Type_Dict \\\n",
    "                   VALUES \\\n",
    "                    (1, 'Pedal cycle'), \\\n",
    "                    (2, 'Motorcycle 50cc and under'), \\\n",
    "                    (3, 'Motorcycle 125cc and under'), \\\n",
    "                    (4, 'Motorcycle over 125cc and up to 500cc'), \\\n",
    "                    (5, 'Motorcycle over 500cc'), \\\n",
    "                    (8, 'Taxi/Private hire car'), \\\n",
    "                    (9, 'Car'), \\\n",
    "                    (10, 'Minibus (8 - 16 passenger seats)'), \\\n",
    "                    (11, 'Bus or coach (17 or more pass seats)'), \\\n",
    "                    (16, 'Ridden horse'), \\\n",
    "                    (17, 'Agricultural vehicle'), \\\n",
    "                    (18, 'Tram'), \\\n",
    "                    (19, 'Van / Goods 3.5 tonnes mgw or under'), \\\n",
    "                    (20, 'Goods over 3.5t. and under 7.5t'), \\\n",
    "                    (21, 'Goods 7.5 tonnes mgw and over'), \\\n",
    "                    (22, 'Mobility scooter'), \\\n",
    "                    (23, 'Electric motorcycle'), \\\n",
    "                    (90, 'Other vehicle'), \\\n",
    "                    (97, 'Motorcycle - unknown cc'), \\\n",
    "                    (98, 'Goods vehicle - unknown weight'), \\\n",
    "                    (-1, 'Data missing or out of range');\""
   ]
  },
  {
   "cell_type": "markdown",
   "metadata": {},
   "source": [
    "## Query to Find Top Vehicle Types in Serious or Fatal Accidents\n",
    "\n",
    "Now that a dictionary is created, both the 'accidents' table and the 'vehicle_type_dict' tables can be joined to the 'vehicle' table. 'Accident_Severity' can be filtered down to a 1 or 2, and all missing vehicle types can be removed. The following query shows the number of serious or fatal accidents broken down by vehicle type."
   ]
  },
  {
   "cell_type": "code",
   "execution_count": null,
   "metadata": {
    "collapsed": true,
    "scrolled": true
   },
   "outputs": [],
   "source": [
    "#query to find top vehicles involved in serious or fatal accidents\n",
    "! impala-shell -q \"SELECT d.vehicle_type, COUNT(*) AS Serious_and_Fatal_Accidents \\\n",
    "                   FROM roadSafety.vehicles AS v \\\n",
    "                     INNER JOIN roadSafety.accidents AS a \\\n",
    "                     ON a.accident_index = v.accident_index \\\n",
    "                     LEFT JOIN roadSafety.vehicle_type_dict AS d \\\n",
    "                     ON v.vehicle_type = d.code \\\n",
    "                   WHERE (a.Accident_Severity = 1 OR a.Accident_Severity = 2) \\\n",
    "                          AND d.vehicle_type <> 'Data missing or out of range' \\\n",
    "                   GROUP BY d.vehicle_type \\\n",
    "                   ORDER BY Serious_and_Fatal_Accidents DESC;\"\n",
    "                \n",
    "#export to CSV\n",
    "! impala-shell -B \\\n",
    "               -o ~/Desktop/Assignment_files/Reports/QuestionThree.csv \\\n",
    "               --print_header \\\n",
    "               --output_delimiter=',' \\\n",
    "               -q \"SELECT d.vehicle_type, COUNT(*) AS Serious_and_Fatal_Accidents \\\n",
    "                   FROM roadSafety.vehicles AS v \\\n",
    "                     INNER JOIN roadSafety.accidents AS a \\\n",
    "                     ON a.accident_index = v.accident_index \\\n",
    "                     LEFT JOIN roadSafety.vehicle_type_dict AS d \\\n",
    "                     ON v.vehicle_type = d.code \\\n",
    "                   WHERE (a.Accident_Severity = 1 OR a.Accident_Severity = 2) \\\n",
    "                          AND d.vehicle_type <> 'Data missing or out of range' \\\n",
    "                   GROUP BY d.vehicle_type \\\n",
    "                   ORDER BY Serious_and_Fatal_Accidents DESC;\""
   ]
  },
  {
   "cell_type": "markdown",
   "metadata": {
    "collapsed": true
   },
   "source": [
    "## Visualizing Vehicle Types Involved in Serious or Fatal Accidents\n",
    "\n",
    "Since the total amount of accidents for many different vehicle types are being compared, a simple bar chart will display the information cleanly. To highlight the vehicle type with the most serious or fatal accidents, a red color bar was added. "
   ]
  },
  {
   "cell_type": "code",
   "execution_count": null,
   "metadata": {
    "collapsed": true,
    "scrolled": true
   },
   "outputs": [],
   "source": [
    "#display visualization in jupyter output inline\n",
    "%matplotlib inline\n",
    "\n",
    "#import packages\n",
    "import matplotlib.pyplot as plt\n",
    "import pandas as pd\n",
    "\n",
    "#read csv into dataframe\n",
    "vehicles = pd.read_csv('~/Desktop/Assignment_files/Reports/QuestionThree.csv')\n",
    "\n",
    "#reverse order so max is on top\n",
    "vehicles = vehicles[::-1]\n",
    "\n",
    "#add colors to highlight maximum column \n",
    "colors = ['black'] * 20\n",
    "colors[19] = 'red'\n",
    "\n",
    "#create bar chart (horizontal to fit the long label information)\n",
    "plt.barh(vehicles.vehicle_type, width=vehicles.serious_and_fatal_accidents, color=colors)\n",
    "plt.xlabel('Number of Serious or Fatal Accidents')\n",
    "plt.ylabel('Vehicle Type')\n",
    "plt.title('Number of Accidents By Vehicle Type', fontdict = {'fontsize' : 16})\n",
    "plt.style.use('ggplot')\n",
    "plt.show()"
   ]
  },
  {
   "cell_type": "markdown",
   "metadata": {
    "collapsed": true
   },
   "source": [
    "## Conclusions\n",
    "\n",
    "As seen above, the vehicle type of 'Car' easily has the greatest number of fatal or serious accidents in 2017, with 21,525 more accidents than the next highest vehicle type. Intuitively, this makes sense as there are many more people driving cars than pedal cycles or motorcycles."
   ]
  },
  {
   "cell_type": "markdown",
   "metadata": {},
   "source": [
    "# Question Four\n",
    "\n",
    "The fourth task is to find the age band of casualty that have the most fatal accidents. There are two variables of interest: 'Accident_Severity' and 'Age_Band_of_Casualty'. To find all fatal accidents, 'Accident_Severity' must be filtered to a '1'. The 'Age_Band_of_Casualty' variable is stored as coded values, and must be defined with a dictionary. The 'accidents' and 'casualties' tables will need to be joined to bring in both variables.  "
   ]
  },
  {
   "cell_type": "markdown",
   "metadata": {},
   "source": [
    "## Creating Age Band of Casualty Data Dictionary"
   ]
  },
  {
   "cell_type": "code",
   "execution_count": null,
   "metadata": {
    "collapsed": true
   },
   "outputs": [],
   "source": [
    "#create age band Data dictionary\n",
    "! impala-shell -q \"USE roadSafety; \\\n",
    "                   CREATE TABLE age_band_dict ( \\\n",
    "                        code int, \\\n",
    "                        Age_Band_of_Casualty string \\\n",
    "                   ) \\\n",
    "                   ROW FORMAT DELIMITED \\\n",
    "                   FIELDS TERMINATED BY ',';\"\n",
    "\n",
    "#insert values into dictionary\n",
    "! impala-shell -q \"USE roadSafety; \\\n",
    "                   INSERT INTO age_band_dict \\\n",
    "                   VALUES \\\n",
    "                    (1, '0 - 5'), \\\n",
    "                    (2, '6 - 10'), \\\n",
    "                    (3, '11 - 15'), \\\n",
    "                    (4, '16 - 20'), \\\n",
    "                    (5, '21 - 25'), \\\n",
    "                    (6, '26 - 35'), \\\n",
    "                    (7, '36 - 45'), \\\n",
    "                    (8, '46 - 55'), \\\n",
    "                    (9, '56 - 65'), \\\n",
    "                    (10, '66 - 75'), \\\n",
    "                    (11, 'Over 75'), \\\n",
    "                    (-1, 'Data missing or out of range');\""
   ]
  },
  {
   "cell_type": "markdown",
   "metadata": {},
   "source": [
    "## Query to Find Fatal Accidents by Age Band of Casualty\n",
    "\n",
    "By joining the dictionary table and accidents table, the Age Band of Casualty variable can be grouped by total number of Fatal Accidents. Bringing in the Age Band code allows for sorting by code number, which will neatly order the age band groups for visualization. A filter can be added to only return accidents that were fatal and to remove data with a missing 'age band of causalty' label."
   ]
  },
  {
   "cell_type": "code",
   "execution_count": null,
   "metadata": {
    "collapsed": true
   },
   "outputs": [],
   "source": [
    "#query to find fatal accidents by age band of casualty\n",
    "! impala-shell -q \"SELECT c.age_band_of_casualty AS age_code, d.age_band_of_casualty, COUNT(*) AS Fatal_Accidents \\\n",
    "                   FROM roadSafety.casualties AS c \\\n",
    "                     INNER JOIN roadSafety.accidents AS a \\\n",
    "                     ON a.accident_index = c.accident_index \\\n",
    "                     LEFT JOIN roadSafety.age_band_dict AS d \\\n",
    "                     ON c.age_band_of_casualty = d.code \\\n",
    "                   WHERE a.Accident_Severity = 1 \\\n",
    "                         AND d.age_band_of_casualty <> 'Data missing or out of range' \\\n",
    "                   GROUP BY c.age_band_of_casualty, d.age_band_of_casualty \\\n",
    "                   ORDER BY c.age_band_of_casualty;\"\n",
    "                \n",
    "#export to CSV\n",
    "! impala-shell -B \\\n",
    "               -o ~/Desktop/Assignment_files/Reports/QuestionFour.csv \\\n",
    "               --print_header \\\n",
    "               --output_delimiter=',' \\\n",
    "               -q \"SELECT c.age_band_of_casualty AS age_code, d.age_band_of_casualty, COUNT(*) AS Fatal_Accidents \\\n",
    "                   FROM roadSafety.casualties AS c \\\n",
    "                     INNER JOIN roadSafety.accidents AS a \\\n",
    "                     ON a.accident_index = c.accident_index \\\n",
    "                     LEFT JOIN roadSafety.age_band_dict AS d \\\n",
    "                     ON c.age_band_of_casualty = d.code \\\n",
    "                   WHERE a.Accident_Severity = 1 \\\n",
    "                         AND d.age_band_of_casualty <> 'Data missing or out of range' \\\n",
    "                   GROUP BY c.age_band_of_casualty, d.age_band_of_casualty \\\n",
    "                   ORDER BY c.age_band_of_casualty;\""
   ]
  },
  {
   "cell_type": "markdown",
   "metadata": {},
   "source": [
    "## Visualizing Fatal Accidents by Age Band of Casualty\n",
    "\n",
    "Rather than return a single value for age band of casualty with the most fatal accidents, it was decided that a vizualization showing the trends by age group would be more beneficial for the client. To solve this, a shaded line chart was created."
   ]
  },
  {
   "cell_type": "code",
   "execution_count": null,
   "metadata": {
    "collapsed": true
   },
   "outputs": [],
   "source": [
    "#display visualization in jupyter output inline\n",
    "%matplotlib inline\n",
    "\n",
    "#import packages\n",
    "import matplotlib.pyplot as plt\n",
    "import pandas as pd\n",
    "\n",
    "#read csv into dataframe\n",
    "age_band = pd.read_csv('~/Desktop/Assignment_files/Reports/QuestionFour.csv')\n",
    "\n",
    "#increase width of chart \n",
    "plt.rcParams['figure.figsize'] = [8, 5]\n",
    "\n",
    "#create line chart\n",
    "plt.plot(age_band.age_band_of_casualty, age_band.fatal_accidents, color='black')\n",
    "plt.xlabel('Age Band of Casualty', fontdict = {'fontsize' : 13})\n",
    "plt.ylabel('Number of Fatal Accidents', fontdict = {'fontsize' : 13})\n",
    "plt.title('Number of Fatal Accidents By Age Band', fontdict = {'fontsize' : 16})\n",
    "plt.style.use('ggplot')\n",
    "#rotate x labels so they are readable\n",
    "plt.xticks(rotation=310)\n",
    "#fill plot to simulate bar plot style\n",
    "plt.fill_between(age_band.age_code - 1, age_band.fatal_accidents, color=\"black\", alpha=0.4)\n",
    "#mark the value of the highest point\n",
    "plt.annotate('504', xy=(5, 504), xytext=(6, 480), arrowprops={'color':'black', 'width':1.7, 'headwidth':7})\n",
    "plt.show()"
   ]
  },
  {
   "cell_type": "markdown",
   "metadata": {},
   "source": [
    "## Conclusions\n",
    "\n",
    "As seen in the chart above, there is a steep increase in total number of fatal accidents for the 'Age Band of Casualty' from 26-35, and that this group is involved in the highest number of fatal accidents. The lowest group is from 0-15, which would make sense as this age group is not yet driving. The only way they would be involved in the accident is if they are riding in the car, and the majority of drivers are commuting to work without children. The data also shows that the total number of accidents begin to trend upward as the age band increases over 75. "
   ]
  },
  {
   "cell_type": "markdown",
   "metadata": {
    "collapsed": true
   },
   "source": [
    "# Question Five\n",
    "\n",
    "The fifth task is to group and display the total number of slight accidents by day of week in the West Yorkshire Police Force Area. The variables of interest are 'Accident Severity', 'Day of Week', and 'Police Force'. To find all slight accidents, 'Accident Severity' must be filtered to a '3'. The Police Force dictionary can be used to filter down to the West Yorkshire Police Force, and 'Day of Week' can be calculated from the 'Accident_Date' field, since an earlier step converted that field into a Hive date format. All variables of interest are located in the 'accidents' table. "
   ]
  },
  {
   "cell_type": "markdown",
   "metadata": {},
   "source": [
    "## Query to Find Slight Accidents by Day of Week in West Yorkshire PFA\n",
    "\n",
    "By joining in the dictionary table, the data can be manipulated in a readable way. Bringing in the day of week number allows for rational sorting, and a filter can be created to limit the data to slight accidents in the West Yorkshire police force area. "
   ]
  },
  {
   "cell_type": "code",
   "execution_count": null,
   "metadata": {
    "collapsed": true
   },
   "outputs": [],
   "source": [
    "#query to find slight accidents by day of week in West Yorkshire PFA\n",
    "! impala-shell -q \"SELECT DAYOFWEEK(a.accident_date) AS Day_Number, \\\n",
    "                          DAYNAME(a.accident_date) AS Day_of_Week, \\\n",
    "                          COUNT(*) AS Slight_Accidents \\\n",
    "                   FROM roadSafety.accidents AS a \\\n",
    "                     LEFT JOIN roadSafety.police_force_dict AS d1 \\\n",
    "                     ON a.Police_Force = d1.code \\\n",
    "                   WHERE a.accident_severity = 3 AND d1.police_force = 'West Yorkshire' \\\n",
    "                   GROUP BY Day_Number, Day_of_Week \\\n",
    "                   ORDER BY Day_Number;\"\n",
    "                \n",
    "#export to CSV\n",
    "! impala-shell -B \\\n",
    "               -o ~/Desktop/Assignment_files/Reports/QuestionFive.csv \\\n",
    "               --print_header \\\n",
    "               --output_delimiter=',' \\\n",
    "               -q \"SELECT DAYOFWEEK(a.accident_date) AS Day_Number, \\\n",
    "                          DAYNAME(a.accident_date) AS Day_of_Week, \\\n",
    "                          COUNT(*) AS Slight_Accidents \\\n",
    "                   FROM roadSafety.accidents AS a \\\n",
    "                     LEFT JOIN roadSafety.police_force_dict AS d1 \\\n",
    "                     ON a.Police_Force = d1.code \\\n",
    "                   WHERE a.accident_severity = 3 AND d1.police_force = 'West Yorkshire' \\\n",
    "                   GROUP BY Day_Number, Day_of_Week \\\n",
    "                   ORDER BY Day_Number;\""
   ]
  },
  {
   "cell_type": "markdown",
   "metadata": {},
   "source": [
    "## Visualizing Slight Accidents by Day of Week in West Yorkshire PFA\n",
    "\n",
    "A simple bar chart compares the slight accidents by day of week."
   ]
  },
  {
   "cell_type": "code",
   "execution_count": null,
   "metadata": {
    "collapsed": true
   },
   "outputs": [],
   "source": [
    "#display visualization in jupyter output inline\n",
    "%matplotlib inline\n",
    "\n",
    "#import packages\n",
    "import matplotlib.pyplot as plt\n",
    "import pandas as pd\n",
    "\n",
    "#read csv into dataframe\n",
    "day_of_week = pd.read_csv('~/Desktop/Assignment_files/Reports/QuestionFive.csv')\n",
    "\n",
    "#create bar chart\n",
    "plt.bar(day_of_week.day_of_week, height=day_of_week.slight_accidents, color='black')\n",
    "plt.xlabel('Day of Week')\n",
    "plt.ylabel('Number of Slight Accidents')\n",
    "plt.title('Accidents in West Yorkshire PFA', fontdict = {'fontsize' : 16})\n",
    "plt.style.use('ggplot')\n",
    "#rotate x labels so they are readable\n",
    "plt.xticks(rotation=340)\n",
    "plt.show()"
   ]
  },
  {
   "cell_type": "markdown",
   "metadata": {},
   "source": [
    "## Conclusions\n",
    "\n",
    "As seen above, the day of week with the highest number of slight accidents in the West Yorkshire Police Force Area is Friday, by a fairly significant margin. This is probably due to most people leaving to travel on Friday for the weekend. "
   ]
  },
  {
   "cell_type": "markdown",
   "metadata": {
    "collapsed": true
   },
   "source": [
    "# Question Six\n",
    "\n",
    "The sixth task is to find the peak hour that have the most fatal accidents in dual carriageway. All variables of interest are housed within the 'accidents' table and include 'Accident_Severity', 'Time' and 'Road_Type'. A filter of '1' must be applied to 'Accident_Severity' to retrieve all fatal accidents, and a filter of '3' will be applied to 'Road_Type' to return all accidents that occured on a dual carriageway. "
   ]
  },
  {
   "cell_type": "markdown",
   "metadata": {},
   "source": [
    "## Query to find Peak Hour with Most Fatal Accidents in Dual Carriageway\n",
    "\n",
    "The 'time' variable reports time down to the minute and grouping by this variable wouldn't convey the trends the client is looking for, as accidents rarely occur within the same minute. This would lead to a graph that is mostly flat and would be very difficult to distinguish which hours have a higher number of accidents. It would be better to round the time variable to the nearest half hour and display the data as accidents by every half hour. The data is stored as text, so a nested IF statement is required to accurately round and format each time interval. The following query checks which time range the minutes fall into, and rounds to the nearest half hour accordingly. Casting is required to compare the minute text to integer values (minutes taken from the right side of the 'time' variable), and then convert back to string format for concatenation. Displaying the data in this way will allow for time series analysis in the visualization step. "
   ]
  },
  {
   "cell_type": "code",
   "execution_count": null,
   "metadata": {
    "collapsed": true
   },
   "outputs": [],
   "source": [
    "#query to find peak hour with most fatal accidents in dual carriageway (round to nearest half-hour)\n",
    "! impala-shell -q \\\n",
    "\"SELECT \\\n",
    "     if(CAST(STRRIGHT(time, 2) AS int) BETWEEN 0 AND 15, CONCAT(STRLEFT(time, 2), ':', '00'), \\\n",
    "        if(CAST(STRRIGHT(time, 2) AS int) BETWEEN 16 AND 44, CONCAT(STRLEFT(time, 2), ':', '30'), \\\n",
    "           if(CAST(STRRIGHT(time, 2) AS int) BETWEEN 45 AND 60, if(CAST(STRLEFT(time, 2) AS int) + 1 < 10, \\\n",
    "               CONCAT('0', CAST((CAST(STRLEFT(time, 2) AS int) + 1) AS string), ':', '00'), \\\n",
    "               CONCAT(CAST((CAST(STRLEFT(time, 2) AS int) + 1) AS string), ':', '00')), 'Error'))) AS Accident_Time, \\\n",
    "     COUNT(*) AS Fatal_Accidents \\\n",
    "FROM roadSafety.accidents \\\n",
    "WHERE accident_severity = 1 AND road_type = 3 \\\n",
    "GROUP BY Accident_Time \\\n",
    "ORDER BY Accident_Time;\"\n",
    "                \n",
    "#export to CSV\n",
    "! impala-shell -B \\\n",
    "               -o ~/Desktop/Assignment_files/Reports/QuestionSix.csv \\\n",
    "               --print_header \\\n",
    "               --output_delimiter=',' \\\n",
    "-q \"SELECT \\\n",
    "     if(CAST(STRRIGHT(time, 2) AS int) BETWEEN 0 AND 15, CONCAT(STRLEFT(time, 2), ':', '00'), \\\n",
    "        if(CAST(STRRIGHT(time, 2) AS int) BETWEEN 16 AND 44, CONCAT(STRLEFT(time, 2), ':', '30'), \\\n",
    "           if(CAST(STRRIGHT(time, 2) AS int) BETWEEN 45 AND 60, if(CAST(STRLEFT(time, 2) AS int) + 1 < 10, \\\n",
    "               CONCAT('0', CAST((CAST(STRLEFT(time, 2) AS int) + 1) AS string), ':', '00'), \\\n",
    "               CONCAT(CAST((CAST(STRLEFT(time, 2) AS int) + 1) AS string), ':', '00')), 'Error'))) AS Accident_Time, \\\n",
    "     COUNT(*) AS Fatal_Accidents \\\n",
    "FROM roadSafety.accidents \\\n",
    "WHERE accident_severity = 1 AND road_type = 3 \\\n",
    "GROUP BY Accident_Time \\\n",
    "ORDER BY Accident_Time;\"                "
   ]
  },
  {
   "cell_type": "markdown",
   "metadata": {},
   "source": [
    "## Visualizing Peak Hour with Most Fatal Accidents\n",
    "\n",
    "The data is now in a format that allows for time series analysis. A line chart will accurately portray the trends in a 24 hour period, and should highlight the hour in which the most fatal accidents occur. "
   ]
  },
  {
   "cell_type": "code",
   "execution_count": null,
   "metadata": {
    "collapsed": true
   },
   "outputs": [],
   "source": [
    "#display visualization in jupyter output inline\n",
    "%matplotlib inline\n",
    "\n",
    "#import packages\n",
    "import matplotlib.pyplot as plt\n",
    "import pandas as pd\n",
    "\n",
    "#read csv into dataframe\n",
    "peak_hour = pd.read_csv('~/Desktop/Assignment_files/Reports/QuestionSix.csv')\n",
    "\n",
    "#increase width of chart to account for labels\n",
    "plt.rcParams['figure.figsize'] = [13, 8]\n",
    "\n",
    "#create line chart\n",
    "plt.plot(peak_hour.accident_time, peak_hour.fatal_accidents, color='black')\n",
    "plt.xlabel('Accident Time (Rounded to Half Hour)', fontdict = {'fontsize' : 16})\n",
    "plt.ylabel('Number of Fatal Accidents', fontdict = {'fontsize' : 16})\n",
    "plt.title('Fatal Accidents in Dual Carriageway', fontdict = {'fontsize' : 24})\n",
    "plt.style.use('ggplot')\n",
    "\n",
    "#rotate x labels so they are readable\n",
    "plt.xticks(rotation=300)\n",
    "\n",
    "#add arrow annotation\n",
    "plt.annotate('17', xy=('20:00', 17), xytext=('21:00', 16), arrowprops={'color':'black', 'width':1.8, 'headwidth':8})\n",
    "\n",
    "plt.show()"
   ]
  },
  {
   "cell_type": "markdown",
   "metadata": {},
   "source": [
    "## Conclusions\n",
    "\n",
    "As seen above, the most fatal accidents in dual carriageway occur at 20:00 with a total of 17 accidents. The next highest was 18:00 with a total of 13 accidents. It is interesting that the most accidents occur in the evening, when visibility might be bad, or people are tired driving home from work."
   ]
  },
  {
   "cell_type": "markdown",
   "metadata": {
    "collapsed": true
   },
   "source": [
    "# Question Seven\n",
    "\n",
    "The final question posed by the client was to find the area that has most fatal motorcycle accidents. The variables of interest from the 'accidents' table are 'Accident_Severity' and 'Urban_or_Rural_Area'. The variable of interest from the 'vehicles' table is 'Vehicle_Type'. By joining these tables together, it can be determined whether urban or rural areas have more fatal motorcycle accidents. "
   ]
  },
  {
   "cell_type": "markdown",
   "metadata": {},
   "source": [
    "## Query to Find Fatal Motorcycle Accidents by Area\n",
    "\n",
    "The following query filters down to all fatal accidents where the vehicle involved was a motorcycle. A '1' in the 'Accident_Severity' variable selects all fatal accidents, and the LIKE operator filters down to any vehicle type in the dictionary table that begins with 'Motorcycle'. (There are 5 vehicle types that contain the word 'Motorcycle') Since there are only two codes in the 'Urban_or_Rural_Area' variable, a simple IF statement will decode them into a readable format for the viewer. "
   ]
  },
  {
   "cell_type": "code",
   "execution_count": null,
   "metadata": {
    "collapsed": true,
    "scrolled": true
   },
   "outputs": [],
   "source": [
    "#query to find fatal motorcycle accidents by area\n",
    "! impala-shell -q \"SELECT IF(a.urban_or_rural_area = 1, 'Urban', \\\n",
    "                          IF(a.urban_or_rural_area = 2, 'Rural', 'Unallocated')) AS Area, \\\n",
    "                   COUNT(*) AS Fatal_Motorcycle_Accidents \\\n",
    "                   FROM roadsafety.accidents AS a \\\n",
    "                     LEFT JOIN roadsafety.vehicles AS v \\\n",
    "                     ON a.accident_index = v.accident_index \\\n",
    "                     LEFT JOIN roadsafety.vehicle_type_dict AS d \\\n",
    "                     ON v.vehicle_type = d.code \\\n",
    "                   WHERE a.accident_severity = 1 AND d.vehicle_type LIKE 'Motorcycle%' \\\n",
    "                   GROUP BY Area;\"\n",
    "                \n",
    "#export to CSV\n",
    "! impala-shell -B \\\n",
    "               -o ~/Desktop/Assignment_files/Reports/QuestionSeven.csv \\\n",
    "               --print_header \\\n",
    "               --output_delimiter=',' \\\n",
    "               -q \"SELECT IF(a.urban_or_rural_area = 1, 'Urban', \\\n",
    "                          IF(a.urban_or_rural_area = 2, 'Rural', 'Unallocated')) AS Area, \\\n",
    "                   COUNT(*) AS Fatal_Motorcycle_Accidents \\\n",
    "                   FROM roadsafety.accidents AS a \\\n",
    "                     LEFT JOIN roadsafety.vehicles AS v \\\n",
    "                     ON a.accident_index = v.accident_index \\\n",
    "                     LEFT JOIN roadsafety.vehicle_type_dict AS d \\\n",
    "                     ON v.vehicle_type = d.code \\\n",
    "                   WHERE a.accident_severity = 1 AND d.vehicle_type LIKE 'Motorcycle%' \\\n",
    "                   GROUP BY Area;\""
   ]
  },
  {
   "cell_type": "markdown",
   "metadata": {},
   "source": [
    "## Visualizing Fatal Motorcycle Accidents by Area\n",
    "\n",
    "The total fatal motorcycle accidents of the two areas are being compared, so a simple bar chart will accurately convey the information to the viewer."
   ]
  },
  {
   "cell_type": "code",
   "execution_count": null,
   "metadata": {
    "collapsed": true
   },
   "outputs": [],
   "source": [
    "#display visualization in jupyter output inline\n",
    "%matplotlib inline\n",
    "\n",
    "#import packages\n",
    "import matplotlib.pyplot as plt\n",
    "import pandas as pd\n",
    "\n",
    "#read csv into dataframe\n",
    "area = pd.read_csv('~/Desktop/Assignment_files/Reports/QuestionSeven.csv')\n",
    "\n",
    "#create bar chart\n",
    "plt.bar(area.area, height=area.fatal_motorcycle_accidents, color='black')\n",
    "plt.xlabel('Area')\n",
    "plt.ylabel('# of Fatal Motorcycle Accidents')\n",
    "plt.title('Fatal Motorcycle Accidents by Area', fontdict = {'fontsize' : 16})\n",
    "plt.style.use('ggplot')\n",
    "plt.show()"
   ]
  },
  {
   "cell_type": "markdown",
   "metadata": {},
   "source": [
    "## Conclusions\n",
    "\n",
    "The above chart clearly shows that the most fatal motorcycle accidents occur in rural areas. "
   ]
  },
  {
   "cell_type": "markdown",
   "metadata": {},
   "source": [
    "# Additional Advice\n",
    "\n",
    "In addition to the questions posed by the client, the consultant has included advice that should help the client extract even more useful insight from the data provided. Additional visualization techniques are discussed below."
   ]
  },
  {
   "cell_type": "markdown",
   "metadata": {},
   "source": [
    "# Casualty Percentage by Casualty Class\n",
    "\n",
    "There are three casualty severity types in the casualties table: Fatal, Serious, and Slight. It would be interesting to see the percentage breakdown of these severity types by casualty class, which includes 'Driver or Rider', 'Passenger' or 'Pedestrian'. By visualizing this information, it can be seen which casualty class has the highest percentage of fatal or serious accidents. "
   ]
  },
  {
   "cell_type": "markdown",
   "metadata": {},
   "source": [
    "## Query to Find Casualty Severity by Casualty Class\n",
    "\n",
    "The following query finds casualty class by severity. All variables of interest are located in the 'casualties' table."
   ]
  },
  {
   "cell_type": "code",
   "execution_count": null,
   "metadata": {
    "collapsed": true,
    "scrolled": false
   },
   "outputs": [],
   "source": [
    "#query to find casualty severity by casualty class\n",
    "! impala-shell -q \"SELECT IF(c1.casualty_class = 1, 'Driver or Rider', \\\n",
    "                            IF(c1.casualty_class = 2, 'Passenger', 'Pedestrian')) AS Casualty_Class, \\\n",
    "                          IF(c1.casualty_severity = 1, 'Fatal', \\\n",
    "                            IF(c1.casualty_severity = 2, 'Serious', 'Slight')) AS Accident_Severity, \\\n",
    "                          COUNT(*) AS Casualty_Count \\\n",
    "                   FROM roadsafety.casualties AS c1 \\\n",
    "                   GROUP BY Casualty_Class, Accident_Severity \\\n",
    "                   ORDER BY Casualty_Class, Accident_Severity;\"\n",
    "\n",
    "#export to CSV\n",
    "! impala-shell -B \\\n",
    "               -o ~/Desktop/Assignment_files/Reports/CasualtyByType.csv \\\n",
    "               --print_header \\\n",
    "               --output_delimiter=',' \\\n",
    "               -q \"SELECT IF(c1.casualty_class = 1, 'Driver or Rider', \\\n",
    "                            IF(c1.casualty_class = 2, 'Passenger', 'Pedestrian')) AS Casualty_Class, \\\n",
    "                          IF(c1.casualty_severity = 1, 'Fatal', \\\n",
    "                            IF(c1.casualty_severity = 2, 'Serious', 'Slight')) AS Accident_Severity, \\\n",
    "                          COUNT(*) AS Casualty_Count \\\n",
    "                   FROM roadsafety.casualties AS c1 \\\n",
    "                   GROUP BY Casualty_Class, Accident_Severity \\\n",
    "                   ORDER BY Casualty_Class, Accident_Severity;\""
   ]
  },
  {
   "cell_type": "markdown",
   "metadata": {},
   "source": [
    "## Visualizing Casualty Severity by Casualty Class\n",
    "\n",
    "Using the saved query, python can be utilized to find the percentage of each casualty severity within the casualty class. A subplot can then be created to compare each of the three severity levels within the casualty classes. In addition to using matplotlib [4] and pandas [2], numpy [5] is used to create an array to tie the category labels to.  "
   ]
  },
  {
   "cell_type": "code",
   "execution_count": null,
   "metadata": {
    "collapsed": true,
    "scrolled": false
   },
   "outputs": [],
   "source": [
    "#display visualization in jupyter output inline\n",
    "%matplotlib inline\n",
    "\n",
    "#import packages\n",
    "import matplotlib.pyplot as plt\n",
    "import pandas as pd\n",
    "import numpy as np\n",
    "#from matplotlib.ticker import MaxNLocator VET THESE\n",
    "#from collections import namedtuple\n",
    "\n",
    "#read csv into dataframe\n",
    "casType = pd.read_csv('~/Desktop/Assignment_files/Reports/CasualtyByType.csv')\n",
    "\n",
    "#create percentage by casualty class\n",
    "casType.loc[casType[\"casualty_class\"] == \"Driver or Rider\", \"casualty_percentage\"] = \\\n",
    "    (casType.loc[casType[\"casualty_class\"] == \"Driver or Rider\", \"casualty_count\"] /\n",
    "    sum(casType.loc[casType[\"casualty_class\"] == \"Driver or Rider\", \"casualty_count\"]) * 100)\n",
    "\n",
    "casType.loc[casType[\"casualty_class\"] == \"Passenger\", \"casualty_percentage\"] = \\\n",
    "    (casType.loc[casType[\"casualty_class\"] == \"Passenger\", \"casualty_count\"] /\n",
    "    sum(casType.loc[casType[\"casualty_class\"] == \"Passenger\", \"casualty_count\"]) * 100)\n",
    "\n",
    "casType.loc[casType[\"casualty_class\"] == \"Pedestrian\", \"casualty_percentage\"] = \\\n",
    "    (casType.loc[casType[\"casualty_class\"] == \"Pedestrian\", \"casualty_count\"] /\n",
    "    sum(casType.loc[casType[\"casualty_class\"] == \"Pedestrian\", \"casualty_count\"]) * 100)\n",
    "\n",
    "#round results\n",
    "casType.casualty_percentage = casType.casualty_percentage.round(2)\n",
    "\n",
    "#create separate dataframes for graphing\n",
    "fatal = casType.loc[casType[\"accident_severity\"] == \"Fatal\"]\n",
    "serious = casType.loc[casType[\"accident_severity\"] == \"Serious\"]\n",
    "slight = casType.loc[casType[\"accident_severity\"] == \"Slight\"]\n",
    "\n",
    "#Chart Results\n",
    "\n",
    "#increase width of chart \n",
    "plt.rcParams['figure.figsize'] = [9, 6]\n",
    "\n",
    "#set number of casualty class categories\n",
    "categories = 3\n",
    "\n",
    "#create the subplot figure\n",
    "fig, ax = plt.subplots()\n",
    "\n",
    "#index to map on x axis\n",
    "index = np.arange(categories)\n",
    "bar_width = 0.25\n",
    "opacity = .9\n",
    "\n",
    "#create each bar chart\n",
    "fatal_bar = ax.bar(index - bar_width/1.5, fatal.casualty_percentage, bar_width,                \n",
    "                alpha=opacity, color='Red',\n",
    "                label='Fatal')\n",
    "\n",
    "serious_bar = ax.bar(index + bar_width/3, serious.casualty_percentage, bar_width,\n",
    "                alpha=opacity, color='Orange',\n",
    "                label='Serious')\n",
    "\n",
    "slight_bar = ax.bar(index + bar_width + bar_width/3, slight.casualty_percentage, bar_width,\n",
    "                alpha=opacity, color='Yellow',\n",
    "                label='Slight')\n",
    "\n",
    "#Set label information\n",
    "ax.set_xlabel('Casualty Class', fontdict = {'fontsize' : 16})\n",
    "ax.set_ylabel('Casualty Severity Percentage', fontdict = {'fontsize' : 16})\n",
    "ax.set_title('Casualty Severity by Class', fontdict = {'fontsize' : 24})\n",
    "ax.set_xticks(index + bar_width / 3)\n",
    "ax.set_xticklabels(('Driver or Rider', 'Passenger', 'Pedestrian'), fontdict = {'fontsize' : 12} )\n",
    "ax.legend()\n",
    "plt.style.use('ggplot')\n",
    "\n",
    "#show results\n",
    "fig.tight_layout()\n",
    "plt.show()"
   ]
  },
  {
   "cell_type": "markdown",
   "metadata": {},
   "source": [
    "## Conclusions\n",
    "\n",
    "As seen in the plot above, pedestrians involved in accidents have the highest percentage of fatal and serious accidents. Since they don't have the protection of a vehicle, injuries will typically be much worse. It is also seen that drivers involved in accidents have a higher percentage of fatal and serious accidents compared to passengers. "
   ]
  },
  {
   "cell_type": "markdown",
   "metadata": {},
   "source": [
    "# Age of Driver in Fatal Accidents on Wet Roads\n",
    "\n",
    "A swarmplot can be used to visualize the age of the driver in all fatal accidents that occured on wet roads. This plot could show if drivers become more cautious in bad conditions as they get older."
   ]
  },
  {
   "cell_type": "markdown",
   "metadata": {},
   "source": [
    "## Query to Find Age of Driver in Fatal Accidents on Wet Roads\n",
    "\n",
    "By joining the 'vehicles' and 'accidents' tables, the age of the driver involved in fatal accidents on wet roads can be found. A road surface condition of '2' indicates a wet or damp road, while an accident severity of 1 indicates that it was a fatal accident."
   ]
  },
  {
   "cell_type": "code",
   "execution_count": null,
   "metadata": {
    "collapsed": true,
    "scrolled": false
   },
   "outputs": [],
   "source": [
    "#query to find age of drive in fatal accidents on wet roads\n",
    "! impala-shell -q \"SELECT a.Road_Surface_Conditions, \\\n",
    "                          v.Age_of_Driver \\\n",
    "                   FROM roadsafety.accidents AS a \\\n",
    "                     INNER JOIN roadsafety.vehicles AS v \\\n",
    "                     ON a.accident_index = v.accident_index \\\n",
    "                   WHERE v.Age_of_Driver <> -1 \\\n",
    "                         AND a.Road_Surface_Conditions = 2 \\\n",
    "                         AND a.accident_severity = 1 \\\n",
    "                   LIMIT 5;\"\n",
    "\n",
    "#export to CSV\n",
    "! impala-shell -B \\\n",
    "               -o ~/Desktop/Assignment_files/Reports/WetRoad.csv \\\n",
    "               --print_header \\\n",
    "               --output_delimiter=',' \\\n",
    "               -q \"SELECT a.Road_Surface_Conditions, \\\n",
    "                          v.Age_of_Driver \\\n",
    "                   FROM roadsafety.accidents AS a \\\n",
    "                     INNER JOIN roadsafety.vehicles AS v \\\n",
    "                     ON a.accident_index = v.accident_index \\\n",
    "                   WHERE v.Age_of_Driver <> -1 \\\n",
    "                         AND a.Road_Surface_Conditions = 2 \\\n",
    "                         AND a.accident_severity = 1;\""
   ]
  },
  {
   "cell_type": "markdown",
   "metadata": {},
   "source": [
    "## Visualizing Age of Driver in Fatal Accidents on Wet Roads\n",
    "\n",
    "Using the package seaborn [6], a swarmplot will nicely display the distribution of age involved in these types of accidents. This type of plot should show the user which age brackets have a tendancy to be involved in accidents involving wet or slippery roads. "
   ]
  },
  {
   "cell_type": "code",
   "execution_count": null,
   "metadata": {
    "collapsed": true
   },
   "outputs": [],
   "source": [
    "#display visualization in jupyter output inline\n",
    "%matplotlib inline\n",
    "\n",
    "#import packages\n",
    "import matplotlib.pyplot as plt\n",
    "import pandas as pd\n",
    "import seaborn as sns; sns.set()\n",
    "\n",
    "#read csv into dataframe\n",
    "wetRoad = pd.read_csv('~/Desktop/Assignment_files/Reports/WetRoad.csv')\n",
    "\n",
    "#increase width of chart \n",
    "plt.rcParams['figure.figsize'] = [15, 8]\n",
    "sns.swarmplot(x=wetRoad[\"age_of_driver\"])\n",
    "plt.xlabel(\"Driver's Age\", fontdict = {'fontsize' : 20})\n",
    "plt.title('Fatal Accidents on Wet Roads', fontdict = {'fontsize' : 34})\n",
    "plt.show()"
   ]
  },
  {
   "cell_type": "markdown",
   "metadata": {},
   "source": [
    "## Conclusions\n",
    "\n",
    "As seen above, drivers in their 20's and 30's have the highest frequency of fatal accidents on wet roads. This may imply that with age comes wisdom, at least when driving in bad conditions. "
   ]
  },
  {
   "cell_type": "markdown",
   "metadata": {},
   "source": [
    "# Mapping Accident Severity by Longitude and Latitude\n",
    "\n",
    "The data includes the location of the accident represented by longitude and latitude. A query can be created that maps accident severity by location. By assigning a different color to each of the accident severity categories, a map of the United Kingdom can show which areas have the most severe accidents. "
   ]
  },
  {
   "cell_type": "markdown",
   "metadata": {},
   "source": [
    "## Query to Map Accident Severity by Location\n",
    "\n",
    "The query below isolates three variables: longitude, latitude, and accident severity. Only data points with a valid location are included in the results. "
   ]
  },
  {
   "cell_type": "code",
   "execution_count": null,
   "metadata": {
    "collapsed": true
   },
   "outputs": [],
   "source": [
    "#query to find Longitude and Latitude by accident severity\n",
    "! impala-shell -q \"SELECT IF(accident_severity = 1, 'Fatal', \\\n",
    "                          IF(accident_severity = 2, 'Serious', 'Slight')) AS Accident_Severity, \\\n",
    "                          Longitude, \\\n",
    "                          Latitude \\\n",
    "                   FROM roadsafety.accidents \\\n",
    "                   WHERE longitude IS NOT NULL AND latitude IS NOT NULL \\\n",
    "                   LIMIT 10;\"\n",
    "\n",
    "#export to CSV\n",
    "! impala-shell -B \\\n",
    "               -o ~/Desktop/Assignment_files/Reports/GeoMap.csv \\\n",
    "               --print_header \\\n",
    "               --output_delimiter=',' \\\n",
    "               -q \"SELECT IF(accident_severity = 1, 'Fatal', \\\n",
    "                          IF(accident_severity = 2, 'Serious', 'Slight')) AS Accident_Severity, \\\n",
    "                          Longitude, \\\n",
    "                          Latitude \\\n",
    "                   FROM roadsafety.accidents \\\n",
    "                   WHERE longitude IS NOT NULL AND latitude IS NOT NULL;\""
   ]
  },
  {
   "cell_type": "markdown",
   "metadata": {},
   "source": [
    "## Visualizing Accident Severity by Location\n",
    "\n",
    "Now that the query is saved, the package cartopy [7] can be used to map the data. For some reason, \"sudo pip install cartopy\" does not install the package correctly, and to get it working the consultant needed to install the package using Anaconda. The following code will install Anaconda and then use the \"conda\" command to correctly install the package. This must be done in the terminal as Jupyter Notebook cannot interact with the program as it downloads."
   ]
  },
  {
   "cell_type": "markdown",
   "metadata": {},
   "source": [
    "## Install Anaconda to install cartopy package"
   ]
  },
  {
   "cell_type": "code",
   "execution_count": null,
   "metadata": {},
   "outputs": [],
   "source": [
    "# First download the 2.7 anaconda package from https://www.anaconda.com/distribution/#linux [8]\n",
    "# and save in the Documents folder\n",
    "!wget -P ~/Documents/ https://repo.anaconda.com/archive/Anaconda2-2019.03-Linux-x86_64.sh\n",
    "\n",
    "# the following runs the install, follow the prompts in the terminal\n",
    "# ! bash ~/Documents/Anaconda2-2019.03-Linux-x86_64.sh\n",
    "\n",
    "# after anaconda is successfully installed, the following installs the cartophy package\n",
    "# (need to close and reopen the terminal after conda install)\n",
    "# conda install -c conda-forge cartopy"
   ]
  },
  {
   "cell_type": "markdown",
   "metadata": {},
   "source": [
    "## Visualizing Accident Severity by Location with Cartopy\n",
    "\n",
    "The OSGB projection is used to create an outline of Great Britain, and the coordinate information is layed on top of this projection. Instructions on how to use this package were found at the cartopy documentation. [9] \n",
    "\n",
    "<span style=\"color:red\">(Need to run this code twice for the map to appear for some reason)</span>"
   ]
  },
  {
   "cell_type": "code",
   "execution_count": null,
   "metadata": {
    "collapsed": true
   },
   "outputs": [],
   "source": [
    "import matplotlib.pyplot as plt\n",
    "import cartopy.crs as ccrs\n",
    "import pandas as pd\n",
    "\n",
    "#read csv into dataframe\n",
    "geoMap = pd.read_csv('~/Desktop/Assignment_files/Reports/GeoMap.csv')\n",
    "\n",
    "#create dataframe for each severity\n",
    "fatal = geoMap[geoMap[\"accident_severity\"]==\"Fatal\"]\n",
    "serious = geoMap[geoMap[\"accident_severity\"]==\"Serious\"]\n",
    "slight = geoMap[geoMap[\"accident_severity\"]==\"Slight\"]\n",
    "\n",
    "#map data\n",
    "plt.figure(figsize=(8, 11))\n",
    "ax = plt.axes(projection=ccrs.OSGB())\n",
    "ax.coastlines(resolution='50m')\n",
    "ax.plot(slight.longitude, slight.latitude, 'o', color='yellow', markersize=1, alpha= .6, \n",
    "        label=\"Yellow = Slight\", transform=ccrs.Geodetic())\n",
    "ax.plot(serious.longitude, serious.latitude, 'o', color='orange', markersize=1, alpha= .6, \n",
    "        label=\"Orange = Serious\", transform=ccrs.Geodetic())\n",
    "ax.plot(fatal.longitude, fatal.latitude, 'o', color='red', markersize=1, alpha= .6, \n",
    "        label=\"Red = Fatal\", transform=ccrs.Geodetic())\n",
    "plt.legend(fancybox=True, edgecolor=\"black\", prop={'size': 12})\n",
    "plt.title('Accidents by Severity in the UK', fontdict = {'fontsize' : 18})\n",
    "plt.show()"
   ]
  },
  {
   "cell_type": "markdown",
   "metadata": {},
   "source": [
    "## Conclusions\n",
    "\n",
    "As seen above, most accidents happen in the south of England. Looking at the map, it is apparent that a high concentration of serious and fatal accidents happen around the London area. Given the high population that lives in those areas, this is to be expected. More people typically means more accidents, and many of the concentrations of accidents above translate to densely populated areas."
   ]
  },
  {
   "cell_type": "markdown",
   "metadata": {},
   "source": [
    "# Final Conclusion\n",
    "\n",
    "The above brief addressed all 7 of the questions posed by the client, and even offered 3 additional visualizations the client might find useful. Sqoop was used to move the data into the HDFS and Impala leveraged big data processing when querying the data. Python visualized the final results, giving the client a full ETL package. The consultant, Ian Jeffries, looks forward to working with the client in the future. "
   ]
  },
  {
   "cell_type": "markdown",
   "metadata": {},
   "source": [
    "# References\n",
    "\n",
    "[1] (n.d.). Retrieved April 29, 2019, from https://data.gov.uk/dataset/cb7ae6f0-4be6-4935-9277-47e5ce24a11f/road-safety-data4\n",
    "\n",
    "[2] McKinney, W. (n.d.). Powerful Python data analysis toolkit¶. Retrieved May 2, 2019, from https://pandas.pydata.org/pandas-docs/stable/\n",
    "\n",
    "[3] Datetime - Basic date and time types¶. (n.d.). Retrieved May 2, 2019, from https://docs.python.org/3/library/datetime.html\n",
    "\n",
    "[4] Hunter, J. (n.d.). Overview¶. Retrieved May 2, 2019, from https://matplotlib.org/contents.html\n",
    "\n",
    "[5] Hugunin, J. (n.d.). NumPy¶. Retrieved May 2, 2019, from https://www.numpy.org/\n",
    "\n",
    "[6] Statistical data visualization¶. (n.d.). Retrieved May 2, 2019, from https://seaborn.pydata.org/\n",
    "\n",
    "[7] Introduction¶. (n.d.). Retrieved May 2, 2019, from https://scitools.org.uk/cartopy/docs/v0.16/\n",
    "\n",
    "[8] Anaconda Python/R Distribution. (n.d.). Retrieved May 2, 2019, from https://www.anaconda.com/distribution/#linux\n",
    "\n",
    "[9] Features¶. (n.d.). Retrieved April 29, 2019, from https://scitools.org.uk/cartopy/docs/latest/gallery/features.html#sphx-glr-gallery-features-py"
   ]
  }
 ],
 "metadata": {
  "kernelspec": {
   "display_name": "Python 3",
   "language": "python",
   "name": "python3"
  },
  "language_info": {
   "codemirror_mode": {
    "name": "ipython",
    "version": 3
   },
   "file_extension": ".py",
   "mimetype": "text/x-python",
   "name": "python",
   "nbconvert_exporter": "python",
   "pygments_lexer": "ipython3",
   "version": "3.7.3"
  }
 },
 "nbformat": 4,
 "nbformat_minor": 1
}
